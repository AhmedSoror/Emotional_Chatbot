{
 "cells": [
  {
   "cell_type": "markdown",
   "metadata": {},
   "source": [
    "# <center>Data Cleaning</center>"
   ]
  },
  {
   "cell_type": "markdown",
   "metadata": {},
   "source": [
    "- The offered data is not correctly structured and the comma separation of the CSV file shifts a lot of raws as well as the shifting of the Arabic translation with the English utterances and prompt.\n",
    "\n",
    "- We solve this issue by dropping the raws that make the problem and relocate every translated utterance and prompt with its corresponding English sentences. \n",
    "\n",
    "- The cleaning is done to both the training and the testing data."
   ]
  },
  {
   "cell_type": "markdown",
   "metadata": {},
   "source": [
    "## Install Needed libraries"
   ]
  },
  {
   "cell_type": "code",
   "execution_count": 1,
   "metadata": {
    "id": "auX5HAyKpGEw"
   },
   "outputs": [],
   "source": [
    "# %%capture\n",
    "# !pip install numpy\n",
    "# !pip install pandas\n",
    "# !pip install csv"
   ]
  },
  {
   "cell_type": "markdown",
   "metadata": {},
   "source": [
    "## Import Needed Libraries"
   ]
  },
  {
   "cell_type": "code",
   "execution_count": 1,
   "metadata": {},
   "outputs": [],
   "source": [
    "import os\n",
    "import numpy as np\n",
    "import pandas as pd"
   ]
  },
  {
   "cell_type": "markdown",
   "metadata": {},
   "source": [
    "# Data Cleaning"
   ]
  },
  {
   "cell_type": "markdown",
   "metadata": {},
   "source": [
    "## Clean Training Data"
   ]
  },
  {
   "cell_type": "code",
   "execution_count": 2,
   "metadata": {
    "scrolled": true
   },
   "outputs": [
    {
     "name": "stdout",
     "output_type": "stream",
     "text": [
      "Data Size:  79189\n"
     ]
    },
    {
     "data": {
      "text/html": [
       "<div>\n",
       "<style scoped>\n",
       "    .dataframe tbody tr th:only-of-type {\n",
       "        vertical-align: middle;\n",
       "    }\n",
       "\n",
       "    .dataframe tbody tr th {\n",
       "        vertical-align: top;\n",
       "    }\n",
       "\n",
       "    .dataframe thead th {\n",
       "        text-align: right;\n",
       "    }\n",
       "</style>\n",
       "<table border=\"1\" class=\"dataframe\">\n",
       "  <thead>\n",
       "    <tr style=\"text-align: right;\">\n",
       "      <th></th>\n",
       "      <th>conv_id</th>\n",
       "      <th>utterance_idx</th>\n",
       "      <th>context</th>\n",
       "      <th>prompt</th>\n",
       "      <th>translated_prompt</th>\n",
       "      <th>speaker_idx</th>\n",
       "      <th>utterance</th>\n",
       "      <th>translated_utterance</th>\n",
       "      <th>selfeval</th>\n",
       "      <th>tags</th>\n",
       "      <th>Unnamed: 10</th>\n",
       "      <th>Unnamed: 11</th>\n",
       "      <th>Unnamed: 12</th>\n",
       "    </tr>\n",
       "  </thead>\n",
       "  <tbody>\n",
       "    <tr>\n",
       "      <th>67987</th>\n",
       "      <td>hit:10636_conv:21272</td>\n",
       "      <td>5</td>\n",
       "      <td>content</td>\n",
       "      <td>I went on vacation_comma_ sat on the beach an...</td>\n",
       "      <td>أشعر بالخجل الشديد لأنني دخلت مكتبي في وقت متأ...</td>\n",
       "      <td>652</td>\n",
       "      <td>Just a couple hours drive. It made me relaxed ...</td>\n",
       "      <td>أنا لست أفضل رجل يبحث على ما يرام. في حفلة ، ذ...</td>\n",
       "      <td>5|5|5_5|5|5</td>\n",
       "      <td>NaN</td>\n",
       "      <td>NaN</td>\n",
       "      <td>NaN</td>\n",
       "      <td>NaN</td>\n",
       "    </tr>\n",
       "    <tr>\n",
       "      <th>39447</th>\n",
       "      <td>hit:6107_conv:12214</td>\n",
       "      <td>4</td>\n",
       "      <td>sentimental</td>\n",
       "      <td>I feel something when I think back to where I ...</td>\n",
       "      <td>على الرغم من أن الأمور لم تكن تسير على ما يرام...</td>\n",
       "      <td>117</td>\n",
       "      <td>I can see why you miss it_comma_ as I actually...</td>\n",
       "      <td>لم أذهب إلى صالة الألعاب الرياضية هذا الصباح. ...</td>\n",
       "      <td>4|5|5_3|5|5</td>\n",
       "      <td>NaN</td>\n",
       "      <td>NaN</td>\n",
       "      <td>NaN</td>\n",
       "      <td>NaN</td>\n",
       "    </tr>\n",
       "    <tr>\n",
       "      <th>30989</th>\n",
       "      <td>hit:4842_conv:9684</td>\n",
       "      <td>4</td>\n",
       "      <td>prepared</td>\n",
       "      <td>I researched for weeks for my paper. With that...</td>\n",
       "      <td>اكتشفت أنه كان لا بد من إلغاء الإجازة التي خطط...</td>\n",
       "      <td>447</td>\n",
       "      <td>Then it was worth it_comma_ even if it was ard...</td>\n",
       "      <td>تبدو مثيرة. لم أكن هناك مطلقا.</td>\n",
       "      <td>5|5|5_5|5|5</td>\n",
       "      <td>NaN</td>\n",
       "      <td>NaN</td>\n",
       "      <td>NaN</td>\n",
       "      <td>NaN</td>\n",
       "    </tr>\n",
       "    <tr>\n",
       "      <th>30453</th>\n",
       "      <td>hit:4745_conv:9490</td>\n",
       "      <td>1</td>\n",
       "      <td>proud</td>\n",
       "      <td>I'm feeling good about how I've handled a lot ...</td>\n",
       "      <td>أصيب أحد أفراد الأسرة المقربين بالمرض بعد تسري...</td>\n",
       "      <td>225</td>\n",
       "      <td>I'm pleased with how I've been handling a larg...</td>\n",
       "      <td>ذات مرة سرقت قالب حلوى من متجر شعرت بالخجل الشديد</td>\n",
       "      <td>5|5|5_5|5|5</td>\n",
       "      <td>NaN</td>\n",
       "      <td>NaN</td>\n",
       "      <td>NaN</td>\n",
       "      <td>NaN</td>\n",
       "    </tr>\n",
       "    <tr>\n",
       "      <th>13392</th>\n",
       "      <td>hit:2104_conv:4209</td>\n",
       "      <td>3</td>\n",
       "      <td>anxious</td>\n",
       "      <td>When I was younger_comma_ I had social anxiety...</td>\n",
       "      <td>كنت أتحدث مع خالتي على الهاتف لكنني شعرت بالحر...</td>\n",
       "      <td>293</td>\n",
       "      <td>Slowly. Therapy and medication have helped a lot.</td>\n",
       "      <td>في بعض الأحيان يكون من الصعب التحدث مع الأقارب...</td>\n",
       "      <td>5|5|5_5|5|5</td>\n",
       "      <td>NaN</td>\n",
       "      <td>NaN</td>\n",
       "      <td>NaN</td>\n",
       "      <td>NaN</td>\n",
       "    </tr>\n",
       "  </tbody>\n",
       "</table>\n",
       "</div>"
      ],
      "text/plain": [
       "                    conv_id utterance_idx      context  \\\n",
       "67987  hit:10636_conv:21272             5      content   \n",
       "39447   hit:6107_conv:12214             4  sentimental   \n",
       "30989    hit:4842_conv:9684             4     prepared   \n",
       "30453    hit:4745_conv:9490             1        proud   \n",
       "13392    hit:2104_conv:4209             3      anxious   \n",
       "\n",
       "                                                  prompt  \\\n",
       "67987   I went on vacation_comma_ sat on the beach an...   \n",
       "39447  I feel something when I think back to where I ...   \n",
       "30989  I researched for weeks for my paper. With that...   \n",
       "30453  I'm feeling good about how I've handled a lot ...   \n",
       "13392  When I was younger_comma_ I had social anxiety...   \n",
       "\n",
       "                                       translated_prompt speaker_idx  \\\n",
       "67987  أشعر بالخجل الشديد لأنني دخلت مكتبي في وقت متأ...         652   \n",
       "39447  على الرغم من أن الأمور لم تكن تسير على ما يرام...         117   \n",
       "30989  اكتشفت أنه كان لا بد من إلغاء الإجازة التي خطط...         447   \n",
       "30453  أصيب أحد أفراد الأسرة المقربين بالمرض بعد تسري...         225   \n",
       "13392  كنت أتحدث مع خالتي على الهاتف لكنني شعرت بالحر...         293   \n",
       "\n",
       "                                               utterance  \\\n",
       "67987  Just a couple hours drive. It made me relaxed ...   \n",
       "39447  I can see why you miss it_comma_ as I actually...   \n",
       "30989  Then it was worth it_comma_ even if it was ard...   \n",
       "30453  I'm pleased with how I've been handling a larg...   \n",
       "13392  Slowly. Therapy and medication have helped a lot.   \n",
       "\n",
       "                                    translated_utterance     selfeval tags  \\\n",
       "67987  أنا لست أفضل رجل يبحث على ما يرام. في حفلة ، ذ...  5|5|5_5|5|5  NaN   \n",
       "39447  لم أذهب إلى صالة الألعاب الرياضية هذا الصباح. ...  4|5|5_3|5|5  NaN   \n",
       "30989                     تبدو مثيرة. لم أكن هناك مطلقا.  5|5|5_5|5|5  NaN   \n",
       "30453  ذات مرة سرقت قالب حلوى من متجر شعرت بالخجل الشديد  5|5|5_5|5|5  NaN   \n",
       "13392  في بعض الأحيان يكون من الصعب التحدث مع الأقارب...  5|5|5_5|5|5  NaN   \n",
       "\n",
       "      Unnamed: 10 Unnamed: 11 Unnamed: 12  \n",
       "67987         NaN         NaN         NaN  \n",
       "39447         NaN         NaN         NaN  \n",
       "30989         NaN         NaN         NaN  \n",
       "30453         NaN         NaN         NaN  \n",
       "13392         NaN         NaN         NaN  "
      ]
     },
     "execution_count": 2,
     "metadata": {},
     "output_type": "execute_result"
    }
   ],
   "source": [
    "# read the training data\n",
    "train_data = pd.read_csv(\"./empatheticdialogues_arabic/train_arabic.csv\",low_memory=False)\n",
    "print(\"Data Size: \", len(train_data))\n",
    "train_data.sample(5)"
   ]
  },
  {
   "cell_type": "markdown",
   "metadata": {},
   "source": [
    "After inspecting the shifting problem in translated_prompt, it was found that problems come from some specific indecies. Hence the translated_prompt is shifted one step down for each index."
   ]
  },
  {
   "cell_type": "code",
   "execution_count": 3,
   "metadata": {},
   "outputs": [],
   "source": [
    "index_of_shift = [7555,9668,15991,22415,50362,55863,57375,65143,66877,67011,73774,74022]\n",
    "for i in index_of_shift:\n",
    "    train_data[\"translated_prompt\"][i+1:len(train_data)] = train_data[\"translated_prompt\"].loc[i:len(train_data)-2]"
   ]
  },
  {
   "cell_type": "markdown",
   "metadata": {},
   "source": [
    "After inspecting the shifting problem translated_utterance, it was found that the problems comes from rows that did not contain word \"hit:\". So we shift the translated_utterance one step down for each index"
   ]
  },
  {
   "cell_type": "code",
   "execution_count": 4,
   "metadata": {},
   "outputs": [],
   "source": [
    "index_of_shift = train_data[~train_data.conv_id.str.contains('hit:')].index\n",
    "for i in index_of_shift:\n",
    "    if(i<22675):\n",
    "        train_data[\"translated_utterance\"][i+1:len(train_data)] = train_data[\"translated_utterance\"].loc[i:len(train_data)-2]"
   ]
  },
  {
   "cell_type": "markdown",
   "metadata": {},
   "source": [
    "we stoped here as we found that the row in index 23255 is also make a problem, and we keep doing that till the end of the data"
   ]
  },
  {
   "cell_type": "code",
   "execution_count": 5,
   "metadata": {},
   "outputs": [],
   "source": [
    "train_data[\"translated_utterance\"][23255:len(train_data)] = train_data[\"translated_utterance\"].loc[23247:len(train_data)-9]"
   ]
  },
  {
   "cell_type": "code",
   "execution_count": 6,
   "metadata": {},
   "outputs": [],
   "source": [
    "index_of_shift = train_data[~train_data.conv_id.str.contains('hit:')].index\n",
    "for i in index_of_shift:\n",
    "    if(i>22675 and i<51780):\n",
    "        train_data[\"translated_utterance\"][i+1:len(train_data)] = train_data[\"translated_utterance\"].loc[i:len(train_data)-2]"
   ]
  },
  {
   "cell_type": "code",
   "execution_count": 7,
   "metadata": {},
   "outputs": [],
   "source": [
    "train_data[\"translated_utterance\"][52910:len(train_data)-23] = train_data[\"translated_utterance\"].loc[52933:len(train_data)]"
   ]
  },
  {
   "cell_type": "code",
   "execution_count": 8,
   "metadata": {},
   "outputs": [],
   "source": [
    "index_of_shift = train_data[~train_data.conv_id.str.contains('hit:')].index\n",
    "for i in index_of_shift:\n",
    "    if(i>51780):\n",
    "        train_data[\"translated_utterance\"][i+1:len(train_data)] = train_data[\"translated_utterance\"].loc[i:len(train_data)-2]"
   ]
  },
  {
   "cell_type": "code",
   "execution_count": 9,
   "metadata": {},
   "outputs": [],
   "source": [
    "train_data[\"translated_utterance\"][74612:len(train_data)] = train_data[\"translated_utterance\"].loc[74276:len(train_data)-337]"
   ]
  },
  {
   "cell_type": "markdown",
   "metadata": {},
   "source": [
    "at the end we drop all the rows that making the shifting problem and drop the unneeded columns"
   ]
  },
  {
   "cell_type": "code",
   "execution_count": 10,
   "metadata": {},
   "outputs": [],
   "source": [
    "train_data = train_data.drop(range(23247,23255))\n",
    "train_data = train_data.drop(range(74276,74612))\n",
    "train_data = train_data.reset_index(drop=True)\n",
    "train_data = train_data[train_data.conv_id.str.contains('hit:')]\n",
    "train_data = train_data[~train_data.utterance.str.contains('hit:')]\n",
    "train_data = train_data[~train_data.translated_utterance.str.contains('hit:')]\n",
    "train_data = train_data.drop(columns=['Unnamed: 10', 'Unnamed: 11','Unnamed: 12'])"
   ]
  },
  {
   "cell_type": "code",
   "execution_count": 11,
   "metadata": {},
   "outputs": [
    {
     "name": "stdout",
     "output_type": "stream",
     "text": [
      "Data Length:  78773\n"
     ]
    },
    {
     "data": {
      "text/html": [
       "<div>\n",
       "<style scoped>\n",
       "    .dataframe tbody tr th:only-of-type {\n",
       "        vertical-align: middle;\n",
       "    }\n",
       "\n",
       "    .dataframe tbody tr th {\n",
       "        vertical-align: top;\n",
       "    }\n",
       "\n",
       "    .dataframe thead th {\n",
       "        text-align: right;\n",
       "    }\n",
       "</style>\n",
       "<table border=\"1\" class=\"dataframe\">\n",
       "  <thead>\n",
       "    <tr style=\"text-align: right;\">\n",
       "      <th></th>\n",
       "      <th>conv_id</th>\n",
       "      <th>utterance_idx</th>\n",
       "      <th>context</th>\n",
       "      <th>prompt</th>\n",
       "      <th>translated_prompt</th>\n",
       "      <th>speaker_idx</th>\n",
       "      <th>utterance</th>\n",
       "      <th>translated_utterance</th>\n",
       "      <th>selfeval</th>\n",
       "      <th>tags</th>\n",
       "    </tr>\n",
       "  </thead>\n",
       "  <tbody>\n",
       "    <tr>\n",
       "      <th>78477</th>\n",
       "      <td>hit:12373_conv:24747</td>\n",
       "      <td>1</td>\n",
       "      <td>proud</td>\n",
       "      <td>I felt this way when my son took his first ste...</td>\n",
       "      <td>شعرت بهذه الطريقة عندما اتخذ ابني خطواته الأولى.</td>\n",
       "      <td>123</td>\n",
       "      <td>My son just took his first steps.</td>\n",
       "      <td>ابني اتخذ خطواته الأولى للتو.</td>\n",
       "      <td>5|5|5_5|5|5</td>\n",
       "      <td>NaN</td>\n",
       "    </tr>\n",
       "    <tr>\n",
       "      <th>31994</th>\n",
       "      <td>hit:5031_conv:10062</td>\n",
       "      <td>3</td>\n",
       "      <td>furious</td>\n",
       "      <td>I was furious to hear that my dental bill was ...</td>\n",
       "      <td>كنت غاضبًا لسماع أن فاتورة الأسنان الخاصة بي ك...</td>\n",
       "      <td>448</td>\n",
       "      <td>Yes_comma_ but I suppose it's worth it in the ...</td>\n",
       "      <td>نعم ، لكني أعتقد أن الأمر يستحق ذلك على المدى ...</td>\n",
       "      <td>4|4|5_5|5|5</td>\n",
       "      <td>NaN</td>\n",
       "    </tr>\n",
       "    <tr>\n",
       "      <th>17053</th>\n",
       "      <td>hit:2615_conv:5230</td>\n",
       "      <td>5</td>\n",
       "      <td>excited</td>\n",
       "      <td>I got my promotion_comma_ I am more than happy...</td>\n",
       "      <td>لقد حصلت على ترقيتي ، أنا أكثر من سعيد اليوم</td>\n",
       "      <td>210</td>\n",
       "      <td>A small party with my family. You are also inv...</td>\n",
       "      <td>حفلة صغيرة مع عائلتي. أنت مدعو أيضا :)</td>\n",
       "      <td>5|5|5_5|5|5</td>\n",
       "      <td>NaN</td>\n",
       "    </tr>\n",
       "    <tr>\n",
       "      <th>59692</th>\n",
       "      <td>hit:9153_conv:18306</td>\n",
       "      <td>1</td>\n",
       "      <td>nostalgic</td>\n",
       "      <td>My family used to go apple picking every year ...</td>\n",
       "      <td>اعتادت عائلتي على قطف التفاح كل عام عندما كنت ...</td>\n",
       "      <td>438</td>\n",
       "      <td>My family used to go apple picking every year ...</td>\n",
       "      <td>اعتادت عائلتي على قطف التفاح كل عام عندما كنت ...</td>\n",
       "      <td>3|5|5_5|5|5</td>\n",
       "      <td>NaN</td>\n",
       "    </tr>\n",
       "    <tr>\n",
       "      <th>65293</th>\n",
       "      <td>hit:10063_conv:20126</td>\n",
       "      <td>2</td>\n",
       "      <td>anticipating</td>\n",
       "      <td>I just got a new apartment and I don't move in...</td>\n",
       "      <td>لقد حصلت للتو على شقة جديدة ولم أتحرك فيها لمد...</td>\n",
       "      <td>128</td>\n",
       "      <td>Congratulations_comma_ that sounds like things...</td>\n",
       "      <td>تهانينا ، يبدو أن الأمور تسير بخطى جيدة.</td>\n",
       "      <td>5|5|5_5|5|5</td>\n",
       "      <td>NaN</td>\n",
       "    </tr>\n",
       "  </tbody>\n",
       "</table>\n",
       "</div>"
      ],
      "text/plain": [
       "                    conv_id utterance_idx       context  \\\n",
       "78477  hit:12373_conv:24747             1         proud   \n",
       "31994   hit:5031_conv:10062             3       furious   \n",
       "17053    hit:2615_conv:5230             5       excited   \n",
       "59692   hit:9153_conv:18306             1     nostalgic   \n",
       "65293  hit:10063_conv:20126             2  anticipating   \n",
       "\n",
       "                                                  prompt  \\\n",
       "78477  I felt this way when my son took his first ste...   \n",
       "31994  I was furious to hear that my dental bill was ...   \n",
       "17053  I got my promotion_comma_ I am more than happy...   \n",
       "59692  My family used to go apple picking every year ...   \n",
       "65293  I just got a new apartment and I don't move in...   \n",
       "\n",
       "                                       translated_prompt speaker_idx  \\\n",
       "78477   شعرت بهذه الطريقة عندما اتخذ ابني خطواته الأولى.         123   \n",
       "31994  كنت غاضبًا لسماع أن فاتورة الأسنان الخاصة بي ك...         448   \n",
       "17053       لقد حصلت على ترقيتي ، أنا أكثر من سعيد اليوم         210   \n",
       "59692  اعتادت عائلتي على قطف التفاح كل عام عندما كنت ...         438   \n",
       "65293  لقد حصلت للتو على شقة جديدة ولم أتحرك فيها لمد...         128   \n",
       "\n",
       "                                               utterance  \\\n",
       "78477                  My son just took his first steps.   \n",
       "31994  Yes_comma_ but I suppose it's worth it in the ...   \n",
       "17053  A small party with my family. You are also inv...   \n",
       "59692  My family used to go apple picking every year ...   \n",
       "65293  Congratulations_comma_ that sounds like things...   \n",
       "\n",
       "                                    translated_utterance     selfeval tags  \n",
       "78477                      ابني اتخذ خطواته الأولى للتو.  5|5|5_5|5|5  NaN  \n",
       "31994  نعم ، لكني أعتقد أن الأمر يستحق ذلك على المدى ...  4|4|5_5|5|5  NaN  \n",
       "17053             حفلة صغيرة مع عائلتي. أنت مدعو أيضا :)  5|5|5_5|5|5  NaN  \n",
       "59692  اعتادت عائلتي على قطف التفاح كل عام عندما كنت ...  3|5|5_5|5|5  NaN  \n",
       "65293           تهانينا ، يبدو أن الأمور تسير بخطى جيدة.  5|5|5_5|5|5  NaN  "
      ]
     },
     "execution_count": 11,
     "metadata": {},
     "output_type": "execute_result"
    }
   ],
   "source": [
    "print(\"Data Length: \", len(train_data))\n",
    "train_data.sample(5)"
   ]
  },
  {
   "cell_type": "markdown",
   "metadata": {},
   "source": [
    " Wrtie the cleaned data to the disk"
   ]
  },
  {
   "cell_type": "code",
   "execution_count": 12,
   "metadata": {},
   "outputs": [],
   "source": [
    "path = \"./empatheticdialogues_arabic_cleaned\"\n",
    "if(not os.path.isdir(path)):\n",
    "    os.mkdir(path)\n",
    "train_data.to_csv(path+\"/train_arabic_clean.csv\",index=False)"
   ]
  },
  {
   "cell_type": "markdown",
   "metadata": {},
   "source": [
    "## Clean Testing Data"
   ]
  },
  {
   "cell_type": "markdown",
   "metadata": {},
   "source": [
    "Read the testing data"
   ]
  },
  {
   "cell_type": "code",
   "execution_count": 13,
   "metadata": {
    "scrolled": false
   },
   "outputs": [
    {
     "name": "stdout",
     "output_type": "stream",
     "text": [
      "Data Length:  10957\n"
     ]
    },
    {
     "data": {
      "text/html": [
       "<div>\n",
       "<style scoped>\n",
       "    .dataframe tbody tr th:only-of-type {\n",
       "        vertical-align: middle;\n",
       "    }\n",
       "\n",
       "    .dataframe tbody tr th {\n",
       "        vertical-align: top;\n",
       "    }\n",
       "\n",
       "    .dataframe thead th {\n",
       "        text-align: right;\n",
       "    }\n",
       "</style>\n",
       "<table border=\"1\" class=\"dataframe\">\n",
       "  <thead>\n",
       "    <tr style=\"text-align: right;\">\n",
       "      <th></th>\n",
       "      <th>conv_id</th>\n",
       "      <th>utterance_idx</th>\n",
       "      <th>context</th>\n",
       "      <th>prompt</th>\n",
       "      <th>translated_prompt</th>\n",
       "      <th>speaker_idx</th>\n",
       "      <th>utterance</th>\n",
       "      <th>translated_utterance</th>\n",
       "      <th>selfeval</th>\n",
       "      <th>tags</th>\n",
       "      <th>Unnamed: 10</th>\n",
       "    </tr>\n",
       "  </thead>\n",
       "  <tbody>\n",
       "    <tr>\n",
       "      <th>6099</th>\n",
       "      <td>hit:7732_conv:15464</td>\n",
       "      <td>2</td>\n",
       "      <td>disgusted</td>\n",
       "      <td>I came home yesterday to dog poop everywhere!</td>\n",
       "      <td>لقد عدت إلى المنزل أمس لأنبوب الكلب في كل مكان!</td>\n",
       "      <td>397.0</td>\n",
       "      <td>Oh no! Were you gone for long?</td>\n",
       "      <td>يا له من كلب سيء ... آمل ألا يفعلوا ذلك مرة أخرى</td>\n",
       "      <td>5|5|4_5|5|5</td>\n",
       "      <td>NaN</td>\n",
       "      <td>That sounds like you have a great wife.  What ...</td>\n",
       "    </tr>\n",
       "    <tr>\n",
       "      <th>3155</th>\n",
       "      <td>hit:3722_conv:7445</td>\n",
       "      <td>4</td>\n",
       "      <td>excited</td>\n",
       "      <td>I went to an amusement park recently</td>\n",
       "      <td>بدأت في وضع المال في حساب التوفير</td>\n",
       "      <td>139.0</td>\n",
       "      <td>Yeah I really like Six Flags. They have some g...</td>\n",
       "      <td>أبقه مرتفعا. قريباً سيكون لديك ما يكفي من الما...</td>\n",
       "      <td>5|4|5_5|5|5</td>\n",
       "      <td>NaN</td>\n",
       "      <td>I can imagine_comma_ sorry|That sounds horribl...</td>\n",
       "    </tr>\n",
       "    <tr>\n",
       "      <th>6411</th>\n",
       "      <td>hit:8076_conv:16152</td>\n",
       "      <td>4</td>\n",
       "      <td>confident</td>\n",
       "      <td>I teach a lot of students how to skydive_comma...</td>\n",
       "      <td>كل فرد في عائلتي يضحك عليّ لأنني شخص منظم للغا...</td>\n",
       "      <td>209.0</td>\n",
       "      <td>I am in VA. I have been looking into it for qu...</td>\n",
       "      <td>كل فرد في عائلتي يضحك عليّ لأنني منظم للغاية و...</td>\n",
       "      <td>5|5|5_5|5|5</td>\n",
       "      <td>NaN</td>\n",
       "      <td>I'm sorry.  Where did she go?|I'm always leery...</td>\n",
       "    </tr>\n",
       "    <tr>\n",
       "      <th>2513</th>\n",
       "      <td>hit:3363_conv:6727</td>\n",
       "      <td>4</td>\n",
       "      <td>anticipating</td>\n",
       "      <td>anticipate: can't wait for my baby boy</td>\n",
       "      <td>الرجاء: أدعو الله أن يتم الاهتمام بكل قلق - ضر...</td>\n",
       "      <td>445.0</td>\n",
       "      <td>the buggy is important_comma_  I have a baby b...</td>\n",
       "      <td>هل لديك طفل واحد على الطريق؟</td>\n",
       "      <td>5|5|5_5|5|5</td>\n",
       "      <td>NaN</td>\n",
       "      <td>You should follow up with a few veggies later ...</td>\n",
       "    </tr>\n",
       "    <tr>\n",
       "      <th>5849</th>\n",
       "      <td>hit:7103_conv:14207</td>\n",
       "      <td>1</td>\n",
       "      <td>embarrassed</td>\n",
       "      <td>One day I fell at work while I was pregnant. L...</td>\n",
       "      <td>ذات يوم وقعت في العمل وأنا حامل. لحسن الحظ ، ل...</td>\n",
       "      <td>45.0</td>\n",
       "      <td>One day at work while I was pregnant_comma_ I ...</td>\n",
       "      <td>نعم ، لقد كان الأمر كذلك حقًا!</td>\n",
       "      <td>5|5|5_5|5|5</td>\n",
       "      <td>NaN</td>\n",
       "      <td>NaN</td>\n",
       "    </tr>\n",
       "  </tbody>\n",
       "</table>\n",
       "</div>"
      ],
      "text/plain": [
       "                  conv_id utterance_idx       context  \\\n",
       "6099  hit:7732_conv:15464             2     disgusted   \n",
       "3155   hit:3722_conv:7445             4       excited   \n",
       "6411  hit:8076_conv:16152             4     confident   \n",
       "2513   hit:3363_conv:6727             4  anticipating   \n",
       "5849  hit:7103_conv:14207             1   embarrassed   \n",
       "\n",
       "                                                 prompt  \\\n",
       "6099      I came home yesterday to dog poop everywhere!   \n",
       "3155               I went to an amusement park recently   \n",
       "6411  I teach a lot of students how to skydive_comma...   \n",
       "2513             anticipate: can't wait for my baby boy   \n",
       "5849  One day I fell at work while I was pregnant. L...   \n",
       "\n",
       "                                      translated_prompt  speaker_idx  \\\n",
       "6099    لقد عدت إلى المنزل أمس لأنبوب الكلب في كل مكان!        397.0   \n",
       "3155                  بدأت في وضع المال في حساب التوفير        139.0   \n",
       "6411  كل فرد في عائلتي يضحك عليّ لأنني شخص منظم للغا...        209.0   \n",
       "2513  الرجاء: أدعو الله أن يتم الاهتمام بكل قلق - ضر...        445.0   \n",
       "5849  ذات يوم وقعت في العمل وأنا حامل. لحسن الحظ ، ل...         45.0   \n",
       "\n",
       "                                              utterance  \\\n",
       "6099                     Oh no! Were you gone for long?   \n",
       "3155  Yeah I really like Six Flags. They have some g...   \n",
       "6411  I am in VA. I have been looking into it for qu...   \n",
       "2513  the buggy is important_comma_  I have a baby b...   \n",
       "5849  One day at work while I was pregnant_comma_ I ...   \n",
       "\n",
       "                                   translated_utterance     selfeval tags  \\\n",
       "6099   يا له من كلب سيء ... آمل ألا يفعلوا ذلك مرة أخرى  5|5|4_5|5|5  NaN   \n",
       "3155  أبقه مرتفعا. قريباً سيكون لديك ما يكفي من الما...  5|4|5_5|5|5  NaN   \n",
       "6411  كل فرد في عائلتي يضحك عليّ لأنني منظم للغاية و...  5|5|5_5|5|5  NaN   \n",
       "2513                       هل لديك طفل واحد على الطريق؟  5|5|5_5|5|5  NaN   \n",
       "5849                     نعم ، لقد كان الأمر كذلك حقًا!  5|5|5_5|5|5  NaN   \n",
       "\n",
       "                                            Unnamed: 10  \n",
       "6099  That sounds like you have a great wife.  What ...  \n",
       "3155  I can imagine_comma_ sorry|That sounds horribl...  \n",
       "6411  I'm sorry.  Where did she go?|I'm always leery...  \n",
       "2513  You should follow up with a few veggies later ...  \n",
       "5849                                                NaN  "
      ]
     },
     "execution_count": 13,
     "metadata": {},
     "output_type": "execute_result"
    }
   ],
   "source": [
    "test_data = pd.read_csv(\"./empatheticdialogues_arabic/test_arabic.csv\",low_memory=False)\n",
    "print(\"Data Length: \", len(test_data))\n",
    "test_data.sample(5)"
   ]
  },
  {
   "cell_type": "markdown",
   "metadata": {},
   "source": [
    "After inspecting the data, it was found that the problem was introduced by the rows that not contain \"hit:\"\n",
    "The translated_utterance and translated_prompt are shifted one step down for each index"
   ]
  },
  {
   "cell_type": "code",
   "execution_count": 14,
   "metadata": {},
   "outputs": [],
   "source": [
    "pd.options.mode.chained_assignment = None\n",
    "index_of_shift = []\n",
    "for i in range(0,len(test_data)):\n",
    "    if(type(test_data[\"conv_id\"][i]) != str):\n",
    "        index_of_shift.append(i)\n",
    "    elif ('hit:' not in test_data[\"conv_id\"][i]):\n",
    "        index_of_shift.append(i)\n",
    "for i in index_of_shift:\n",
    "        test_data[\"translated_utterance\"][i+1:len(test_data)] = test_data[\"translated_utterance\"].loc[i:len(test_data)-2]\n",
    "        test_data[\"translated_prompt\"][i+1:len(test_data)] = test_data[\"translated_prompt\"].loc[i:len(test_data)-2]\n",
    "test_data = test_data.drop(index_of_shift)\n",
    "test_data = test_data.reset_index(drop=True)\n",
    "test_data = test_data.drop(columns=['Unnamed: 10'])"
   ]
  },
  {
   "cell_type": "code",
   "execution_count": 16,
   "metadata": {},
   "outputs": [
    {
     "name": "stdout",
     "output_type": "stream",
     "text": [
      "Data Length:  10953\n"
     ]
    },
    {
     "data": {
      "text/html": [
       "<div>\n",
       "<style scoped>\n",
       "    .dataframe tbody tr th:only-of-type {\n",
       "        vertical-align: middle;\n",
       "    }\n",
       "\n",
       "    .dataframe tbody tr th {\n",
       "        vertical-align: top;\n",
       "    }\n",
       "\n",
       "    .dataframe thead th {\n",
       "        text-align: right;\n",
       "    }\n",
       "</style>\n",
       "<table border=\"1\" class=\"dataframe\">\n",
       "  <thead>\n",
       "    <tr style=\"text-align: right;\">\n",
       "      <th></th>\n",
       "      <th>conv_id</th>\n",
       "      <th>utterance_idx</th>\n",
       "      <th>context</th>\n",
       "      <th>prompt</th>\n",
       "      <th>translated_prompt</th>\n",
       "      <th>speaker_idx</th>\n",
       "      <th>utterance</th>\n",
       "      <th>translated_utterance</th>\n",
       "      <th>selfeval</th>\n",
       "      <th>tags</th>\n",
       "    </tr>\n",
       "  </thead>\n",
       "  <tbody>\n",
       "    <tr>\n",
       "      <th>6826</th>\n",
       "      <td>hit:8681_conv:17363</td>\n",
       "      <td>1</td>\n",
       "      <td>disgusted</td>\n",
       "      <td>My friend asked me to help clean his grandma's...</td>\n",
       "      <td>طلب مني صديقي المساعدة في تنظيف منزل جدته بعد ...</td>\n",
       "      <td>117.0</td>\n",
       "      <td>When my buddy asked me to help him clean out h...</td>\n",
       "      <td>عندما طلب مني صديقي مساعدته في تنظيف منزل جدته...</td>\n",
       "      <td>2|3|4_5|5|5</td>\n",
       "      <td>NaN</td>\n",
       "    </tr>\n",
       "    <tr>\n",
       "      <th>2724</th>\n",
       "      <td>hit:3489_conv:6979</td>\n",
       "      <td>1</td>\n",
       "      <td>sentimental</td>\n",
       "      <td>I feel blue whenever i see a picture of my dog...</td>\n",
       "      <td>أشعر بالحزن كلما رأيت صورة كلبي .. ماتت قبل شه...</td>\n",
       "      <td>416.0</td>\n",
       "      <td>I feel heartbroken whenever i see a picture of...</td>\n",
       "      <td>أشعر بالحزن كلما رأيت صورة كلبي</td>\n",
       "      <td>5|5|5_5|4|4</td>\n",
       "      <td>NaN</td>\n",
       "    </tr>\n",
       "    <tr>\n",
       "      <th>3029</th>\n",
       "      <td>hit:3652_conv:7305</td>\n",
       "      <td>1</td>\n",
       "      <td>prepared</td>\n",
       "      <td>I used to live in California. Early one mornin...</td>\n",
       "      <td>كنت أعيش في كاليفورنيا. في وقت مبكر من صباح أح...</td>\n",
       "      <td>343.0</td>\n",
       "      <td>Since that earthquake in the early hours of th...</td>\n",
       "      <td>منذ ذلك الزلزال في الساعات الأولى من الصباح ، ...</td>\n",
       "      <td>5|5|5_5|5|4</td>\n",
       "      <td>NaN</td>\n",
       "    </tr>\n",
       "    <tr>\n",
       "      <th>5864</th>\n",
       "      <td>hit:7118_conv:14237</td>\n",
       "      <td>2</td>\n",
       "      <td>surprised</td>\n",
       "      <td>My husband planned a secret weekend trip for u...</td>\n",
       "      <td>لقد خطط زوجي لنا منذ وقت ليس ببعيد لرحلة سرية ...</td>\n",
       "      <td>4.0</td>\n",
       "      <td>Where did he take you to?</td>\n",
       "      <td>إلى أين أخذك إلى؟</td>\n",
       "      <td>5|5|5_5|5|5</td>\n",
       "      <td>NaN</td>\n",
       "    </tr>\n",
       "    <tr>\n",
       "      <th>9282</th>\n",
       "      <td>hit:10785_conv:21570</td>\n",
       "      <td>6</td>\n",
       "      <td>faithful</td>\n",
       "      <td>Even though I could've gotten more money at an...</td>\n",
       "      <td>على الرغم من أنه كان بإمكاني الحصول على المزيد...</td>\n",
       "      <td>563.0</td>\n",
       "      <td>I always need convincing to take my yucky medi...</td>\n",
       "      <td>أحتاج دائمًا إلى الإقناع لأخذ دوائي المقزز</td>\n",
       "      <td>5|5|5_5|5|5</td>\n",
       "      <td>NaN</td>\n",
       "    </tr>\n",
       "  </tbody>\n",
       "</table>\n",
       "</div>"
      ],
      "text/plain": [
       "                   conv_id utterance_idx      context  \\\n",
       "6826   hit:8681_conv:17363             1    disgusted   \n",
       "2724    hit:3489_conv:6979             1  sentimental   \n",
       "3029    hit:3652_conv:7305             1     prepared   \n",
       "5864   hit:7118_conv:14237             2    surprised   \n",
       "9282  hit:10785_conv:21570             6     faithful   \n",
       "\n",
       "                                                 prompt  \\\n",
       "6826  My friend asked me to help clean his grandma's...   \n",
       "2724  I feel blue whenever i see a picture of my dog...   \n",
       "3029  I used to live in California. Early one mornin...   \n",
       "5864  My husband planned a secret weekend trip for u...   \n",
       "9282  Even though I could've gotten more money at an...   \n",
       "\n",
       "                                      translated_prompt  speaker_idx  \\\n",
       "6826  طلب مني صديقي المساعدة في تنظيف منزل جدته بعد ...        117.0   \n",
       "2724  أشعر بالحزن كلما رأيت صورة كلبي .. ماتت قبل شه...        416.0   \n",
       "3029  كنت أعيش في كاليفورنيا. في وقت مبكر من صباح أح...        343.0   \n",
       "5864  لقد خطط زوجي لنا منذ وقت ليس ببعيد لرحلة سرية ...          4.0   \n",
       "9282  على الرغم من أنه كان بإمكاني الحصول على المزيد...        563.0   \n",
       "\n",
       "                                              utterance  \\\n",
       "6826  When my buddy asked me to help him clean out h...   \n",
       "2724  I feel heartbroken whenever i see a picture of...   \n",
       "3029  Since that earthquake in the early hours of th...   \n",
       "5864                          Where did he take you to?   \n",
       "9282  I always need convincing to take my yucky medi...   \n",
       "\n",
       "                                   translated_utterance     selfeval tags  \n",
       "6826  عندما طلب مني صديقي مساعدته في تنظيف منزل جدته...  2|3|4_5|5|5  NaN  \n",
       "2724                    أشعر بالحزن كلما رأيت صورة كلبي  5|5|5_5|4|4  NaN  \n",
       "3029  منذ ذلك الزلزال في الساعات الأولى من الصباح ، ...  5|5|5_5|5|4  NaN  \n",
       "5864                                  إلى أين أخذك إلى؟  5|5|5_5|5|5  NaN  \n",
       "9282         أحتاج دائمًا إلى الإقناع لأخذ دوائي المقزز  5|5|5_5|5|5  NaN  "
      ]
     },
     "execution_count": 16,
     "metadata": {},
     "output_type": "execute_result"
    }
   ],
   "source": [
    "print(\"Data Length: \", len(test_data))\n",
    "test_data.sample(5)"
   ]
  },
  {
   "cell_type": "markdown",
   "metadata": {},
   "source": [
    " Write cleaned data to disk"
   ]
  },
  {
   "cell_type": "code",
   "execution_count": 17,
   "metadata": {},
   "outputs": [],
   "source": [
    "path = \"./empatheticdialogues_arabic_cleaned\"\n",
    "if(not os.path.isdir(path)):\n",
    "    os.mkdir(path)\n",
    "test_data.to_csv(path+\"/test_arabic_clean.csv\",index=False)"
   ]
  }
 ],
 "metadata": {
  "colab": {
   "name": "IA(AI).ipynb",
   "provenance": []
  },
  "kernelspec": {
   "display_name": "Python 3",
   "language": "python",
   "name": "python3"
  },
  "language_info": {
   "codemirror_mode": {
    "name": "ipython",
    "version": 3
   },
   "file_extension": ".py",
   "mimetype": "text/x-python",
   "name": "python",
   "nbconvert_exporter": "python",
   "pygments_lexer": "ipython3",
   "version": "3.8.8"
  }
 },
 "nbformat": 4,
 "nbformat_minor": 1
}
