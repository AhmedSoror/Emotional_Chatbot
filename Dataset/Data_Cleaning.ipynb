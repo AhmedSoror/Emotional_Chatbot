{
 "cells": [
  {
   "cell_type": "markdown",
   "metadata": {},
   "source": [
    "# <center>Data Cleaning</center>"
   ]
  },
  {
   "cell_type": "markdown",
   "metadata": {},
   "source": [
    "- The offered data is not correctly structured and the comma separation of the CSV file shifts a lot of raws as well as the shifting of the Arabic translation with the English utterances and prompt.\n",
    "\n",
    "- We solve this issue by dropping the raws that make the problem and relocate every translated utterance and prompt with its corresponding English sentences. \n",
    "\n",
    "- The cleaning is done to both the training and the testing data."
   ]
  },
  {
   "cell_type": "markdown",
   "metadata": {},
   "source": [
    "## Install Needed libraries"
   ]
  },
  {
   "cell_type": "code",
   "execution_count": 1,
   "metadata": {
    "id": "auX5HAyKpGEw"
   },
   "outputs": [],
   "source": [
    "# %%capture\n",
    "# !pip install numpy\n",
    "# !pip install pandas\n",
    "# !pip install csv\n",
    "# !pip install git-python==1.0.3\n",
    "# !pip install sacrebleu==1.4.2\n",
    "# !pip install rouge_score\n",
    "# !pip install farasapy\n",
    "# !git clone https://github.com/aub-mind/arabert\n",
    "# !pip install pyarabic\n",
    "# !pip install datasets\n",
    "# !pip install -U transformers==4.5.1\n",
    "# !pip install awesometkinter"
   ]
  },
  {
   "cell_type": "markdown",
   "metadata": {},
   "source": [
    "## Import Needed Libraries"
   ]
  },
  {
   "cell_type": "code",
   "execution_count": 24,
   "metadata": {},
   "outputs": [],
   "source": [
    "import os\n",
    "import numpy as np\n",
    "import pandas as pd"
   ]
  },
  {
   "cell_type": "markdown",
   "metadata": {},
   "source": [
    "# Data Cleaning"
   ]
  },
  {
   "cell_type": "markdown",
   "metadata": {},
   "source": [
    "## Clean Training Data"
   ]
  },
  {
   "cell_type": "code",
   "execution_count": 5,
   "metadata": {
    "scrolled": true
   },
   "outputs": [
    {
     "name": "stdout",
     "output_type": "stream",
     "text": [
      "Data Size:  79189\n"
     ]
    },
    {
     "data": {
      "text/html": [
       "<div>\n",
       "<style scoped>\n",
       "    .dataframe tbody tr th:only-of-type {\n",
       "        vertical-align: middle;\n",
       "    }\n",
       "\n",
       "    .dataframe tbody tr th {\n",
       "        vertical-align: top;\n",
       "    }\n",
       "\n",
       "    .dataframe thead th {\n",
       "        text-align: right;\n",
       "    }\n",
       "</style>\n",
       "<table border=\"1\" class=\"dataframe\">\n",
       "  <thead>\n",
       "    <tr style=\"text-align: right;\">\n",
       "      <th></th>\n",
       "      <th>conv_id</th>\n",
       "      <th>utterance_idx</th>\n",
       "      <th>context</th>\n",
       "      <th>prompt</th>\n",
       "      <th>translated_prompt</th>\n",
       "      <th>speaker_idx</th>\n",
       "      <th>utterance</th>\n",
       "      <th>translated_utterance</th>\n",
       "      <th>selfeval</th>\n",
       "      <th>tags</th>\n",
       "      <th>Unnamed: 10</th>\n",
       "      <th>Unnamed: 11</th>\n",
       "      <th>Unnamed: 12</th>\n",
       "    </tr>\n",
       "  </thead>\n",
       "  <tbody>\n",
       "    <tr>\n",
       "      <th>47586</th>\n",
       "      <td>hit:7245_conv:14490</td>\n",
       "      <td>3</td>\n",
       "      <td>caring</td>\n",
       "      <td>Sometimes I feel like a dad to my best friend.</td>\n",
       "      <td>أفتقد عندما كانت ابنتي رضيعة ، أتمنى أن أعود ف...</td>\n",
       "      <td>445</td>\n",
       "      <td>nope_comma_  young people know everything alre...</td>\n",
       "      <td>حسنًا ، فهمت الآن.</td>\n",
       "      <td>5|5|5_5|5|5</td>\n",
       "      <td>NaN</td>\n",
       "      <td>NaN</td>\n",
       "      <td>NaN</td>\n",
       "      <td>NaN</td>\n",
       "    </tr>\n",
       "    <tr>\n",
       "      <th>29151</th>\n",
       "      <td>hit:4513_conv:9027</td>\n",
       "      <td>4</td>\n",
       "      <td>joyful</td>\n",
       "      <td>I really wanted to go on this trip to Texas an...</td>\n",
       "      <td>أنا أطعم كلبي وسقيها كل يوم.</td>\n",
       "      <td>9</td>\n",
       "      <td>Food is so expensive these days.</td>\n",
       "      <td>من الرائع سماع ذلك ، أتمنى أن يمضي يومه الأول ...</td>\n",
       "      <td>5|5|5_5|5|5</td>\n",
       "      <td>NaN</td>\n",
       "      <td>NaN</td>\n",
       "      <td>NaN</td>\n",
       "      <td>NaN</td>\n",
       "    </tr>\n",
       "    <tr>\n",
       "      <th>5689</th>\n",
       "      <td>hit:980_conv:1960</td>\n",
       "      <td>2</td>\n",
       "      <td>annoyed</td>\n",
       "      <td>I go grocery shopping on Saturday morning_comm...</td>\n",
       "      <td>أذهب للتسوق من البقالة صباح يوم السبت ، ويقضي ...</td>\n",
       "      <td>11</td>\n",
       "      <td>Tell him to get out and do something! That mus...</td>\n",
       "      <td>حسنًا ، يدفع إيجارًا لكنه بالتأكيد يستخدم موار...</td>\n",
       "      <td>5|5|5_5|5|5</td>\n",
       "      <td>NaN</td>\n",
       "      <td>NaN</td>\n",
       "      <td>NaN</td>\n",
       "      <td>NaN</td>\n",
       "    </tr>\n",
       "    <tr>\n",
       "      <th>52390</th>\n",
       "      <td>hit:7994_conv:15989</td>\n",
       "      <td>3</td>\n",
       "      <td>terrified</td>\n",
       "      <td>I keep hearing strange noises from underneath ...</td>\n",
       "      <td>كان على فتياتي دراسة علم الأحياء العام الماضي....</td>\n",
       "      <td>139</td>\n",
       "      <td>I don't have a dog and I just moved in the hou...</td>\n",
       "      <td>كنت سأضحك بشدة إذا كنت أرى كلبي يفعل ذلك</td>\n",
       "      <td>5|5|5_3|4|5</td>\n",
       "      <td>NaN</td>\n",
       "      <td>NaN</td>\n",
       "      <td>NaN</td>\n",
       "      <td>NaN</td>\n",
       "    </tr>\n",
       "    <tr>\n",
       "      <th>55992</th>\n",
       "      <td>hit:8556_conv:17112</td>\n",
       "      <td>1</td>\n",
       "      <td>hopeful</td>\n",
       "      <td>I'm starting an internship in my field in a co...</td>\n",
       "      <td>لقد شاهدت للتو الفيلم الذي رأيته مع زوجتي في أ...</td>\n",
       "      <td>292</td>\n",
       "      <td>I am starting an internship in my field of stu...</td>\n",
       "      <td>أوه لا. هذا ليس جيدا!</td>\n",
       "      <td>5|5|5_5|5|5</td>\n",
       "      <td>NaN</td>\n",
       "      <td>NaN</td>\n",
       "      <td>NaN</td>\n",
       "      <td>NaN</td>\n",
       "    </tr>\n",
       "  </tbody>\n",
       "</table>\n",
       "</div>"
      ],
      "text/plain": [
       "                   conv_id utterance_idx    context  \\\n",
       "47586  hit:7245_conv:14490             3     caring   \n",
       "29151   hit:4513_conv:9027             4     joyful   \n",
       "5689     hit:980_conv:1960             2    annoyed   \n",
       "52390  hit:7994_conv:15989             3  terrified   \n",
       "55992  hit:8556_conv:17112             1    hopeful   \n",
       "\n",
       "                                                  prompt  \\\n",
       "47586     Sometimes I feel like a dad to my best friend.   \n",
       "29151  I really wanted to go on this trip to Texas an...   \n",
       "5689   I go grocery shopping on Saturday morning_comm...   \n",
       "52390  I keep hearing strange noises from underneath ...   \n",
       "55992  I'm starting an internship in my field in a co...   \n",
       "\n",
       "                                       translated_prompt speaker_idx  \\\n",
       "47586  أفتقد عندما كانت ابنتي رضيعة ، أتمنى أن أعود ف...         445   \n",
       "29151                       أنا أطعم كلبي وسقيها كل يوم.           9   \n",
       "5689   أذهب للتسوق من البقالة صباح يوم السبت ، ويقضي ...          11   \n",
       "52390  كان على فتياتي دراسة علم الأحياء العام الماضي....         139   \n",
       "55992  لقد شاهدت للتو الفيلم الذي رأيته مع زوجتي في أ...         292   \n",
       "\n",
       "                                               utterance  \\\n",
       "47586  nope_comma_  young people know everything alre...   \n",
       "29151                   Food is so expensive these days.   \n",
       "5689   Tell him to get out and do something! That mus...   \n",
       "52390  I don't have a dog and I just moved in the hou...   \n",
       "55992  I am starting an internship in my field of stu...   \n",
       "\n",
       "                                    translated_utterance     selfeval tags  \\\n",
       "47586                                 حسنًا ، فهمت الآن.  5|5|5_5|5|5  NaN   \n",
       "29151  من الرائع سماع ذلك ، أتمنى أن يمضي يومه الأول ...  5|5|5_5|5|5  NaN   \n",
       "5689   حسنًا ، يدفع إيجارًا لكنه بالتأكيد يستخدم موار...  5|5|5_5|5|5  NaN   \n",
       "52390           كنت سأضحك بشدة إذا كنت أرى كلبي يفعل ذلك  5|5|5_3|4|5  NaN   \n",
       "55992                              أوه لا. هذا ليس جيدا!  5|5|5_5|5|5  NaN   \n",
       "\n",
       "      Unnamed: 10 Unnamed: 11 Unnamed: 12  \n",
       "47586         NaN         NaN         NaN  \n",
       "29151         NaN         NaN         NaN  \n",
       "5689          NaN         NaN         NaN  \n",
       "52390         NaN         NaN         NaN  \n",
       "55992         NaN         NaN         NaN  "
      ]
     },
     "execution_count": 5,
     "metadata": {},
     "output_type": "execute_result"
    }
   ],
   "source": [
    "# read the training data\n",
    "train_data = pd.read_csv(\"./empatheticdialogues_arabic/train_arabic.csv\",low_memory=False)\n",
    "print(\"Data Size: \", len(train_data))\n",
    "train_data.sample(5)"
   ]
  },
  {
   "cell_type": "markdown",
   "metadata": {},
   "source": [
    "After inspecting the shifting problem in translated_prompt, it was found that problems come from some specific indecies. Hence the translated_prompt is shifted one step down for each index."
   ]
  },
  {
   "cell_type": "code",
   "execution_count": 6,
   "metadata": {},
   "outputs": [],
   "source": [
    "index_of_shift = [7555,9668,15991,22415,50362,55863,57375,65143,66877,67011,73774,74022]\n",
    "for i in index_of_shift:\n",
    "    train_data[\"translated_prompt\"][i+1:len(train_data)] = train_data[\"translated_prompt\"].loc[i:len(train_data)-2]"
   ]
  },
  {
   "cell_type": "markdown",
   "metadata": {},
   "source": [
    "After inspecting the shifting problem translated_utterance, it was found that the problems comes from rows that did not contain word \"hit:\". So we shift the translated_utterance one step down for each index"
   ]
  },
  {
   "cell_type": "code",
   "execution_count": 7,
   "metadata": {},
   "outputs": [],
   "source": [
    "index_of_shift = train_data[~train_data.conv_id.str.contains('hit:')].index\n",
    "for i in index_of_shift:\n",
    "    if(i<22675):\n",
    "        train_data[\"translated_utterance\"][i+1:len(train_data)] = train_data[\"translated_utterance\"].loc[i:len(train_data)-2]"
   ]
  },
  {
   "cell_type": "markdown",
   "metadata": {},
   "source": [
    "we stoped here as we found that the row in index 23255 is also make a problem, and we keep doing that till the end of the data"
   ]
  },
  {
   "cell_type": "code",
   "execution_count": 8,
   "metadata": {},
   "outputs": [],
   "source": [
    "train_data[\"translated_utterance\"][23255:len(train_data)] = train_data[\"translated_utterance\"].loc[23247:len(train_data)-9]"
   ]
  },
  {
   "cell_type": "code",
   "execution_count": 9,
   "metadata": {},
   "outputs": [],
   "source": [
    "index_of_shift = train_data[~train_data.conv_id.str.contains('hit:')].index\n",
    "for i in index_of_shift:\n",
    "    if(i>22675 and i<51780):\n",
    "        train_data[\"translated_utterance\"][i+1:len(train_data)] = train_data[\"translated_utterance\"].loc[i:len(train_data)-2]"
   ]
  },
  {
   "cell_type": "code",
   "execution_count": 10,
   "metadata": {},
   "outputs": [],
   "source": [
    "train_data[\"translated_utterance\"][52910:len(train_data)-23] = train_data[\"translated_utterance\"].loc[52933:len(train_data)]"
   ]
  },
  {
   "cell_type": "code",
   "execution_count": 11,
   "metadata": {},
   "outputs": [],
   "source": [
    "index_of_shift = train_data[~train_data.conv_id.str.contains('hit:')].index\n",
    "for i in index_of_shift:\n",
    "    if(i>51780):\n",
    "        train_data[\"translated_utterance\"][i+1:len(train_data)] = train_data[\"translated_utterance\"].loc[i:len(train_data)-2]"
   ]
  },
  {
   "cell_type": "code",
   "execution_count": 12,
   "metadata": {},
   "outputs": [],
   "source": [
    "train_data[\"translated_utterance\"][74612:len(train_data)] = train_data[\"translated_utterance\"].loc[74276:len(train_data)-337]"
   ]
  },
  {
   "cell_type": "markdown",
   "metadata": {},
   "source": [
    "at the end we drop all the rows that making the shifting problem and drop the unneeded columns"
   ]
  },
  {
   "cell_type": "code",
   "execution_count": 13,
   "metadata": {},
   "outputs": [],
   "source": [
    "train_data = train_data.drop(range(23247,23255))\n",
    "train_data = train_data.drop(range(74276,74612))\n",
    "train_data = train_data.reset_index(drop=True)\n",
    "train_data = train_data[train_data.conv_id.str.contains('hit:')]\n",
    "train_data = train_data[~train_data.utterance.str.contains('hit:')]\n",
    "train_data = train_data[~train_data.translated_utterance.str.contains('hit:')]\n",
    "train_data = train_data.drop(columns=['Unnamed: 10', 'Unnamed: 11','Unnamed: 12'])"
   ]
  },
  {
   "cell_type": "code",
   "execution_count": 14,
   "metadata": {},
   "outputs": [
    {
     "name": "stdout",
     "output_type": "stream",
     "text": [
      "Data Length:  78773\n"
     ]
    },
    {
     "data": {
      "text/html": [
       "<div>\n",
       "<style scoped>\n",
       "    .dataframe tbody tr th:only-of-type {\n",
       "        vertical-align: middle;\n",
       "    }\n",
       "\n",
       "    .dataframe tbody tr th {\n",
       "        vertical-align: top;\n",
       "    }\n",
       "\n",
       "    .dataframe thead th {\n",
       "        text-align: right;\n",
       "    }\n",
       "</style>\n",
       "<table border=\"1\" class=\"dataframe\">\n",
       "  <thead>\n",
       "    <tr style=\"text-align: right;\">\n",
       "      <th></th>\n",
       "      <th>conv_id</th>\n",
       "      <th>utterance_idx</th>\n",
       "      <th>context</th>\n",
       "      <th>prompt</th>\n",
       "      <th>translated_prompt</th>\n",
       "      <th>speaker_idx</th>\n",
       "      <th>utterance</th>\n",
       "      <th>translated_utterance</th>\n",
       "      <th>selfeval</th>\n",
       "      <th>tags</th>\n",
       "    </tr>\n",
       "  </thead>\n",
       "  <tbody>\n",
       "    <tr>\n",
       "      <th>2873</th>\n",
       "      <td>hit:456_conv:912</td>\n",
       "      <td>1</td>\n",
       "      <td>nostalgic</td>\n",
       "      <td>There are certain times when I hear a song com...</td>\n",
       "      <td>هناك أوقات معينة عندما أسمع أغنية تأتي على الر...</td>\n",
       "      <td>163</td>\n",
       "      <td>I sometimes wish I could go back to high schoo...</td>\n",
       "      <td>أتمنى أحيانًا أن أعود إلى المدرسة الثانوية وأن...</td>\n",
       "      <td>3|5|5_5|5|5</td>\n",
       "      <td>NaN</td>\n",
       "    </tr>\n",
       "    <tr>\n",
       "      <th>76289</th>\n",
       "      <td>hit:12046_conv:24092</td>\n",
       "      <td>1</td>\n",
       "      <td>impressed</td>\n",
       "      <td>I was surprised that the Browns managed to bea...</td>\n",
       "      <td>لقد فوجئت بأن براون نجح في التغلب على النسور ف...</td>\n",
       "      <td>10</td>\n",
       "      <td>I was surprised that the Browns managed to bea...</td>\n",
       "      <td>لقد فوجئت بأن براون تمكن من هزيمة النسور في ذل...</td>\n",
       "      <td>5|5|5_5|5|5</td>\n",
       "      <td>NaN</td>\n",
       "    </tr>\n",
       "    <tr>\n",
       "      <th>26100</th>\n",
       "      <td>hit:4069_conv:8138</td>\n",
       "      <td>1</td>\n",
       "      <td>terrified</td>\n",
       "      <td>I am starting my first year of college and I a...</td>\n",
       "      <td>أبدأ عامي الأول في الكلية وأنا خائف للغاية.</td>\n",
       "      <td>262</td>\n",
       "      <td>I am about to start college at the end of the ...</td>\n",
       "      <td>أنا على وشك بدء الدراسة الجامعية في نهاية الشهر.</td>\n",
       "      <td>5|5|5_5|5|5</td>\n",
       "      <td>NaN</td>\n",
       "    </tr>\n",
       "    <tr>\n",
       "      <th>42120</th>\n",
       "      <td>hit:6493_conv:12986</td>\n",
       "      <td>2</td>\n",
       "      <td>sentimental</td>\n",
       "      <td>I am finding it hard to sell my grandfathers c...</td>\n",
       "      <td>أجد صعوبة في بيع كاديلاك أجدادي</td>\n",
       "      <td>238</td>\n",
       "      <td>put it on offerup</td>\n",
       "      <td>وضعه على العرض</td>\n",
       "      <td>4|5|5_5|5|5</td>\n",
       "      <td>NaN</td>\n",
       "    </tr>\n",
       "    <tr>\n",
       "      <th>77265</th>\n",
       "      <td>hit:12190_conv:24381</td>\n",
       "      <td>2</td>\n",
       "      <td>surprised</td>\n",
       "      <td>I had not seen my best friend in over 3 years....</td>\n",
       "      <td>لم أر أفضل صديق لي منذ أكثر من 3 سنوات. عندما ...</td>\n",
       "      <td>139</td>\n",
       "      <td>Sorry to hear that. What happened to him?</td>\n",
       "      <td>آسف لسماع ذلك. ماذا حدث له؟</td>\n",
       "      <td>5|5|5_5|5|5</td>\n",
       "      <td>NaN</td>\n",
       "    </tr>\n",
       "  </tbody>\n",
       "</table>\n",
       "</div>"
      ],
      "text/plain": [
       "                    conv_id utterance_idx      context  \\\n",
       "2873       hit:456_conv:912             1    nostalgic   \n",
       "76289  hit:12046_conv:24092             1    impressed   \n",
       "26100    hit:4069_conv:8138             1    terrified   \n",
       "42120   hit:6493_conv:12986             2  sentimental   \n",
       "77265  hit:12190_conv:24381             2    surprised   \n",
       "\n",
       "                                                  prompt  \\\n",
       "2873   There are certain times when I hear a song com...   \n",
       "76289  I was surprised that the Browns managed to bea...   \n",
       "26100  I am starting my first year of college and I a...   \n",
       "42120  I am finding it hard to sell my grandfathers c...   \n",
       "77265  I had not seen my best friend in over 3 years....   \n",
       "\n",
       "                                       translated_prompt speaker_idx  \\\n",
       "2873   هناك أوقات معينة عندما أسمع أغنية تأتي على الر...         163   \n",
       "76289  لقد فوجئت بأن براون نجح في التغلب على النسور ف...          10   \n",
       "26100        أبدأ عامي الأول في الكلية وأنا خائف للغاية.         262   \n",
       "42120                    أجد صعوبة في بيع كاديلاك أجدادي         238   \n",
       "77265  لم أر أفضل صديق لي منذ أكثر من 3 سنوات. عندما ...         139   \n",
       "\n",
       "                                               utterance  \\\n",
       "2873   I sometimes wish I could go back to high schoo...   \n",
       "76289  I was surprised that the Browns managed to bea...   \n",
       "26100  I am about to start college at the end of the ...   \n",
       "42120                                  put it on offerup   \n",
       "77265          Sorry to hear that. What happened to him?   \n",
       "\n",
       "                                    translated_utterance     selfeval tags  \n",
       "2873   أتمنى أحيانًا أن أعود إلى المدرسة الثانوية وأن...  3|5|5_5|5|5  NaN  \n",
       "76289  لقد فوجئت بأن براون تمكن من هزيمة النسور في ذل...  5|5|5_5|5|5  NaN  \n",
       "26100   أنا على وشك بدء الدراسة الجامعية في نهاية الشهر.  5|5|5_5|5|5  NaN  \n",
       "42120                                     وضعه على العرض  4|5|5_5|5|5  NaN  \n",
       "77265                        آسف لسماع ذلك. ماذا حدث له؟  5|5|5_5|5|5  NaN  "
      ]
     },
     "execution_count": 14,
     "metadata": {},
     "output_type": "execute_result"
    }
   ],
   "source": [
    "print(\"Data Length: \", len(train_data))\n",
    "train_data.sample(5)"
   ]
  },
  {
   "cell_type": "markdown",
   "metadata": {},
   "source": [
    " Wrtie the cleaned data to the disk"
   ]
  },
  {
   "cell_type": "code",
   "execution_count": 30,
   "metadata": {},
   "outputs": [],
   "source": [
    "path = \"./empatheticdialogues_arabic_cleaned\"\n",
    "if(not os.path.isdir(path)):\n",
    "    os.mkdir(path)\n",
    "train_data.to_csv(path+\"/train_arabic_clean.csv\",index=False)"
   ]
  },
  {
   "cell_type": "markdown",
   "metadata": {},
   "source": [
    "## Clean Testing Data"
   ]
  },
  {
   "cell_type": "markdown",
   "metadata": {},
   "source": [
    "Read the testing data"
   ]
  },
  {
   "cell_type": "code",
   "execution_count": 18,
   "metadata": {
    "scrolled": false
   },
   "outputs": [
    {
     "name": "stdout",
     "output_type": "stream",
     "text": [
      "Data Length:  10957\n"
     ]
    },
    {
     "data": {
      "text/html": [
       "<div>\n",
       "<style scoped>\n",
       "    .dataframe tbody tr th:only-of-type {\n",
       "        vertical-align: middle;\n",
       "    }\n",
       "\n",
       "    .dataframe tbody tr th {\n",
       "        vertical-align: top;\n",
       "    }\n",
       "\n",
       "    .dataframe thead th {\n",
       "        text-align: right;\n",
       "    }\n",
       "</style>\n",
       "<table border=\"1\" class=\"dataframe\">\n",
       "  <thead>\n",
       "    <tr style=\"text-align: right;\">\n",
       "      <th></th>\n",
       "      <th>conv_id</th>\n",
       "      <th>utterance_idx</th>\n",
       "      <th>context</th>\n",
       "      <th>prompt</th>\n",
       "      <th>translated_prompt</th>\n",
       "      <th>speaker_idx</th>\n",
       "      <th>utterance</th>\n",
       "      <th>translated_utterance</th>\n",
       "      <th>selfeval</th>\n",
       "      <th>tags</th>\n",
       "      <th>Unnamed: 10</th>\n",
       "    </tr>\n",
       "  </thead>\n",
       "  <tbody>\n",
       "    <tr>\n",
       "      <th>6866</th>\n",
       "      <td>hit:8700_conv:17400</td>\n",
       "      <td>4</td>\n",
       "      <td>disappointed</td>\n",
       "      <td>I was hoping to go on vacation this summer but...</td>\n",
       "      <td>لقد كنت مجتهدة حقًا في دراستي ، وسأكون في فريق...</td>\n",
       "      <td>366.0</td>\n",
       "      <td>Wow_comma_ that is a long time! That shows how...</td>\n",
       "      <td>لقد كنت مجتهدًا للغاية في دراستي حتى الآن ، وأ...</td>\n",
       "      <td>5|5|5_5|5|5</td>\n",
       "      <td>NaN</td>\n",
       "      <td>My son keeps trying to show me Youtube videos ...</td>\n",
       "    </tr>\n",
       "    <tr>\n",
       "      <th>4542</th>\n",
       "      <td>hit:5481_conv:10963</td>\n",
       "      <td>3</td>\n",
       "      <td>surprised</td>\n",
       "      <td>My mother gave me something very unexpected an...</td>\n",
       "      <td>كنت أرغب في غسل الصحون في ذلك اليوم لكنني لم أ...</td>\n",
       "      <td>45.0</td>\n",
       "      <td>Yes_comma_ I didn't have a clue she was going ...</td>\n",
       "      <td>لقد كسرت إصبعًا في ذلك اليوم ولم أستطع غسل أي ...</td>\n",
       "      <td>5|5|5_5|5|5</td>\n",
       "      <td>NaN</td>\n",
       "      <td>NaN</td>\n",
       "    </tr>\n",
       "    <tr>\n",
       "      <th>577</th>\n",
       "      <td>hit:556_conv:1112</td>\n",
       "      <td>3</td>\n",
       "      <td>trusting</td>\n",
       "      <td>My mother recently took out a bunch of money o...</td>\n",
       "      <td>أخذت والدتي مؤخرًا مجموعة من المال نيابة عني م...</td>\n",
       "      <td>64.0</td>\n",
       "      <td>Nice people are the best. Empathy is something...</td>\n",
       "      <td>الناس الطيبون هم الأفضل. التعاطف هو شيء نحتاج ...</td>\n",
       "      <td>5|5|5_5|5|5</td>\n",
       "      <td>NaN</td>\n",
       "      <td>NaN</td>\n",
       "    </tr>\n",
       "    <tr>\n",
       "      <th>3807</th>\n",
       "      <td>hit:4742_conv:9485</td>\n",
       "      <td>1</td>\n",
       "      <td>impressed</td>\n",
       "      <td>Everybody say a quiet place movie was boring b...</td>\n",
       "      <td>الجميع يقول أن فيلم مكان هادئ كان مملًا لكنني ...</td>\n",
       "      <td>50.0</td>\n",
       "      <td>Everybody say a quiet place movie was boring b...</td>\n",
       "      <td>يا إلهي ، يجب عليك! إنه فيلم فريد من نوعه. لا ...</td>\n",
       "      <td>5|5|5_5|5|5</td>\n",
       "      <td>NaN</td>\n",
       "      <td>NaN</td>\n",
       "    </tr>\n",
       "    <tr>\n",
       "      <th>2388</th>\n",
       "      <td>hit:3108_conv:6217</td>\n",
       "      <td>5</td>\n",
       "      <td>confident</td>\n",
       "      <td>I found out that I was one of the top performe...</td>\n",
       "      <td>اكتشفت أنني كنت أحد أفضل الفنانين أداءً في منط...</td>\n",
       "      <td>90.0</td>\n",
       "      <td>How long have you been there?</td>\n",
       "      <td>أنا متأكد من أنك قمت ببعض العمل الجيد - هل سيك...</td>\n",
       "      <td>5|5|5_5|5|5</td>\n",
       "      <td>NaN</td>\n",
       "      <td>NaN</td>\n",
       "    </tr>\n",
       "  </tbody>\n",
       "</table>\n",
       "</div>"
      ],
      "text/plain": [
       "                  conv_id utterance_idx       context  \\\n",
       "6866  hit:8700_conv:17400             4  disappointed   \n",
       "4542  hit:5481_conv:10963             3     surprised   \n",
       "577     hit:556_conv:1112             3      trusting   \n",
       "3807   hit:4742_conv:9485             1     impressed   \n",
       "2388   hit:3108_conv:6217             5     confident   \n",
       "\n",
       "                                                 prompt  \\\n",
       "6866  I was hoping to go on vacation this summer but...   \n",
       "4542  My mother gave me something very unexpected an...   \n",
       "577   My mother recently took out a bunch of money o...   \n",
       "3807  Everybody say a quiet place movie was boring b...   \n",
       "2388  I found out that I was one of the top performe...   \n",
       "\n",
       "                                      translated_prompt  speaker_idx  \\\n",
       "6866  لقد كنت مجتهدة حقًا في دراستي ، وسأكون في فريق...        366.0   \n",
       "4542  كنت أرغب في غسل الصحون في ذلك اليوم لكنني لم أ...         45.0   \n",
       "577   أخذت والدتي مؤخرًا مجموعة من المال نيابة عني م...         64.0   \n",
       "3807  الجميع يقول أن فيلم مكان هادئ كان مملًا لكنني ...         50.0   \n",
       "2388  اكتشفت أنني كنت أحد أفضل الفنانين أداءً في منط...         90.0   \n",
       "\n",
       "                                              utterance  \\\n",
       "6866  Wow_comma_ that is a long time! That shows how...   \n",
       "4542  Yes_comma_ I didn't have a clue she was going ...   \n",
       "577   Nice people are the best. Empathy is something...   \n",
       "3807  Everybody say a quiet place movie was boring b...   \n",
       "2388                      How long have you been there?   \n",
       "\n",
       "                                   translated_utterance     selfeval tags  \\\n",
       "6866  لقد كنت مجتهدًا للغاية في دراستي حتى الآن ، وأ...  5|5|5_5|5|5  NaN   \n",
       "4542  لقد كسرت إصبعًا في ذلك اليوم ولم أستطع غسل أي ...  5|5|5_5|5|5  NaN   \n",
       "577   الناس الطيبون هم الأفضل. التعاطف هو شيء نحتاج ...  5|5|5_5|5|5  NaN   \n",
       "3807  يا إلهي ، يجب عليك! إنه فيلم فريد من نوعه. لا ...  5|5|5_5|5|5  NaN   \n",
       "2388  أنا متأكد من أنك قمت ببعض العمل الجيد - هل سيك...  5|5|5_5|5|5  NaN   \n",
       "\n",
       "                                            Unnamed: 10  \n",
       "6866  My son keeps trying to show me Youtube videos ...  \n",
       "4542                                                NaN  \n",
       "577                                                 NaN  \n",
       "3807                                                NaN  \n",
       "2388                                                NaN  "
      ]
     },
     "execution_count": 18,
     "metadata": {},
     "output_type": "execute_result"
    }
   ],
   "source": [
    "test_data = pd.read_csv(\"./empatheticdialogues_arabic/test_arabic.csv\",low_memory=False)\n",
    "print(\"Data Length: \", len(test_data))\n",
    "test_data.sample(5)"
   ]
  },
  {
   "cell_type": "markdown",
   "metadata": {},
   "source": [
    "After inspecting the data, it was found that the problem was introduced by the rows that not contain \"hit:\"\n",
    "The translated_utterance and translated_prompt are shifted one step down for each index"
   ]
  },
  {
   "cell_type": "code",
   "execution_count": 19,
   "metadata": {},
   "outputs": [],
   "source": [
    "pd.options.mode.chained_assignment = None\n",
    "index_of_shift = []\n",
    "for i in range(0,len(test_data)):\n",
    "    if(type(test_data[\"conv_id\"][i]) != str):\n",
    "        index_of_shift.append(i)\n",
    "    elif ('hit:' not in test_data[\"conv_id\"][i]):\n",
    "        index_of_shift.append(i)\n",
    "for i in index_of_shift:\n",
    "        test_data[\"translated_utterance\"][i+1:len(test_data)] = test_data[\"translated_utterance\"].loc[i:len(test_data)-2]\n",
    "        test_data[\"translated_prompt\"][i+1:len(test_data)] = test_data[\"translated_prompt\"].loc[i:len(test_data)-2]\n",
    "test_data = test_data.drop(index_of_shift)\n",
    "test_data = test_data.reset_index(drop=True)\n",
    "test_data = test_data.drop(columns=['Unnamed: 10'])"
   ]
  },
  {
   "cell_type": "code",
   "execution_count": 20,
   "metadata": {},
   "outputs": [
    {
     "name": "stdout",
     "output_type": "stream",
     "text": [
      "Data Length:  10953\n"
     ]
    },
    {
     "data": {
      "text/html": [
       "<div>\n",
       "<style scoped>\n",
       "    .dataframe tbody tr th:only-of-type {\n",
       "        vertical-align: middle;\n",
       "    }\n",
       "\n",
       "    .dataframe tbody tr th {\n",
       "        vertical-align: top;\n",
       "    }\n",
       "\n",
       "    .dataframe thead th {\n",
       "        text-align: right;\n",
       "    }\n",
       "</style>\n",
       "<table border=\"1\" class=\"dataframe\">\n",
       "  <thead>\n",
       "    <tr style=\"text-align: right;\">\n",
       "      <th></th>\n",
       "      <th>conv_id</th>\n",
       "      <th>utterance_idx</th>\n",
       "      <th>context</th>\n",
       "      <th>prompt</th>\n",
       "      <th>translated_prompt</th>\n",
       "      <th>speaker_idx</th>\n",
       "      <th>utterance</th>\n",
       "      <th>translated_utterance</th>\n",
       "      <th>selfeval</th>\n",
       "      <th>tags</th>\n",
       "    </tr>\n",
       "  </thead>\n",
       "  <tbody>\n",
       "    <tr>\n",
       "      <th>9742</th>\n",
       "      <td>hit:11129_conv:22259</td>\n",
       "      <td>2</td>\n",
       "      <td>trusting</td>\n",
       "      <td>I walk out on belief that I will be lead down ...</td>\n",
       "      <td>أسير على اعتقاد أنني سوف أسير في الطريق الصحيح...</td>\n",
       "      <td>632.0</td>\n",
       "      <td>That's a big decision! What are your choices?</td>\n",
       "      <td>هذا قرار كبير! ما هي اختياراتك؟</td>\n",
       "      <td>5|5|5_5|5|5</td>\n",
       "      <td>NaN</td>\n",
       "    </tr>\n",
       "    <tr>\n",
       "      <th>7793</th>\n",
       "      <td>hit:9608_conv:19216</td>\n",
       "      <td>1</td>\n",
       "      <td>grateful</td>\n",
       "      <td>There's a woman in town who has started delive...</td>\n",
       "      <td>هناك امرأة في المدينة بدأت في توصيل البقالة إل...</td>\n",
       "      <td>343.0</td>\n",
       "      <td>I get my groceries delivered to my home and am...</td>\n",
       "      <td>أحصل على مشترياتي من البقالة إلى منزلي وأنا مم...</td>\n",
       "      <td>5|5|5_5|5|5</td>\n",
       "      <td>NaN</td>\n",
       "    </tr>\n",
       "    <tr>\n",
       "      <th>9908</th>\n",
       "      <td>hit:11238_conv:22477</td>\n",
       "      <td>2</td>\n",
       "      <td>guilty</td>\n",
       "      <td>I snuck some candy out of my daughter's snack ...</td>\n",
       "      <td>لقد تسللت بعض الحلوى من مخزون الوجبات الخفيفة ...</td>\n",
       "      <td>35.0</td>\n",
       "      <td>I understand that feeling. I've had trouble le...</td>\n",
       "      <td>أنا أفهم هذا الشعور. لقد واجهت مشكلة في التخلي...</td>\n",
       "      <td>5|5|5_5|5|5</td>\n",
       "      <td>NaN</td>\n",
       "    </tr>\n",
       "    <tr>\n",
       "      <th>10383</th>\n",
       "      <td>hit:11698_conv:23397</td>\n",
       "      <td>2</td>\n",
       "      <td>proud</td>\n",
       "      <td>I just finished first in a foot race! I feel a...</td>\n",
       "      <td>لقد أنهيت للتو المركز الأول في سباق القدم! أشع...</td>\n",
       "      <td>438.0</td>\n",
       "      <td>Oh my goodness!  That's amazing!  Congratulati...</td>\n",
       "      <td>يا إلهي! هذا مذهل! تهانينا! هل كان هذا أول سبا...</td>\n",
       "      <td>5|5|5_5|5|5</td>\n",
       "      <td>NaN</td>\n",
       "    </tr>\n",
       "    <tr>\n",
       "      <th>7920</th>\n",
       "      <td>hit:9722_conv:19445</td>\n",
       "      <td>3</td>\n",
       "      <td>surprised</td>\n",
       "      <td>I walked out to my car and got in and felt som...</td>\n",
       "      <td>خرجت إلى سيارتي ودخلت وشعرت بشيء أصاب وجهي. لق...</td>\n",
       "      <td>313.0</td>\n",
       "      <td>A GIANT SPIDER! It was terrible and I was so s...</td>\n",
       "      <td>عنكبوت عملاق! كان الأمر فظيعًا وكنت مذهولًا جدًا!</td>\n",
       "      <td>5|5|5_5|5|5</td>\n",
       "      <td>NaN</td>\n",
       "    </tr>\n",
       "  </tbody>\n",
       "</table>\n",
       "</div>"
      ],
      "text/plain": [
       "                    conv_id utterance_idx    context  \\\n",
       "9742   hit:11129_conv:22259             2   trusting   \n",
       "7793    hit:9608_conv:19216             1   grateful   \n",
       "9908   hit:11238_conv:22477             2     guilty   \n",
       "10383  hit:11698_conv:23397             2      proud   \n",
       "7920    hit:9722_conv:19445             3  surprised   \n",
       "\n",
       "                                                  prompt  \\\n",
       "9742   I walk out on belief that I will be lead down ...   \n",
       "7793   There's a woman in town who has started delive...   \n",
       "9908   I snuck some candy out of my daughter's snack ...   \n",
       "10383  I just finished first in a foot race! I feel a...   \n",
       "7920   I walked out to my car and got in and felt som...   \n",
       "\n",
       "                                       translated_prompt  speaker_idx  \\\n",
       "9742   أسير على اعتقاد أنني سوف أسير في الطريق الصحيح...        632.0   \n",
       "7793   هناك امرأة في المدينة بدأت في توصيل البقالة إل...        343.0   \n",
       "9908   لقد تسللت بعض الحلوى من مخزون الوجبات الخفيفة ...         35.0   \n",
       "10383  لقد أنهيت للتو المركز الأول في سباق القدم! أشع...        438.0   \n",
       "7920   خرجت إلى سيارتي ودخلت وشعرت بشيء أصاب وجهي. لق...        313.0   \n",
       "\n",
       "                                               utterance  \\\n",
       "9742       That's a big decision! What are your choices?   \n",
       "7793   I get my groceries delivered to my home and am...   \n",
       "9908   I understand that feeling. I've had trouble le...   \n",
       "10383  Oh my goodness!  That's amazing!  Congratulati...   \n",
       "7920   A GIANT SPIDER! It was terrible and I was so s...   \n",
       "\n",
       "                                    translated_utterance     selfeval tags  \n",
       "9742                     هذا قرار كبير! ما هي اختياراتك؟  5|5|5_5|5|5  NaN  \n",
       "7793   أحصل على مشترياتي من البقالة إلى منزلي وأنا مم...  5|5|5_5|5|5  NaN  \n",
       "9908   أنا أفهم هذا الشعور. لقد واجهت مشكلة في التخلي...  5|5|5_5|5|5  NaN  \n",
       "10383  يا إلهي! هذا مذهل! تهانينا! هل كان هذا أول سبا...  5|5|5_5|5|5  NaN  \n",
       "7920   عنكبوت عملاق! كان الأمر فظيعًا وكنت مذهولًا جدًا!  5|5|5_5|5|5  NaN  "
      ]
     },
     "execution_count": 20,
     "metadata": {},
     "output_type": "execute_result"
    }
   ],
   "source": [
    "print(\"Data Length: \", len(test_data))\n",
    "data.sample(5)"
   ]
  },
  {
   "cell_type": "markdown",
   "metadata": {},
   "source": [
    " Write cleaned data to disk"
   ]
  },
  {
   "cell_type": "code",
   "execution_count": 31,
   "metadata": {},
   "outputs": [],
   "source": [
    "path = \"./empatheticdialogues_arabic_cleaned\"\n",
    "if(not os.path.isdir(path)):\n",
    "    os.mkdir(path)\n",
    "test_data.to_csv(path+\"/test_arabic_clean.csv\",index=False)"
   ]
  }
 ],
 "metadata": {
  "colab": {
   "name": "IA(AI).ipynb",
   "provenance": []
  },
  "kernelspec": {
   "display_name": "Python 3",
   "language": "python",
   "name": "python3"
  },
  "language_info": {
   "codemirror_mode": {
    "name": "ipython",
    "version": 3
   },
   "file_extension": ".py",
   "mimetype": "text/x-python",
   "name": "python",
   "nbconvert_exporter": "python",
   "pygments_lexer": "ipython3",
   "version": "3.8.8"
  }
 },
 "nbformat": 4,
 "nbformat_minor": 1
}
