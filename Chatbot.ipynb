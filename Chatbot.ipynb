{
 "cells": [
  {
   "cell_type": "markdown",
   "metadata": {},
   "source": [
    "# <center>IA(AI) Chatbot</center>"
   ]
  },
  {
   "cell_type": "markdown",
   "metadata": {},
   "source": [
    "<center>Intuition Arabic(AI) Chatbot</center>\n",
    "<center>In other words: Islam Ahmed (Abdelrahman Islam) Chatbot</center>"
   ]
  },
  {
   "cell_type": "markdown",
   "metadata": {},
   "source": [
    "## Install Needed libraries"
   ]
  },
  {
   "cell_type": "code",
   "execution_count": 1,
   "metadata": {
    "id": "auX5HAyKpGEw"
   },
   "outputs": [],
   "source": [
    "!pip install -U transformers==4.5.1\n",
    "!pip install awesometkinter"
   ]
  },
  {
   "cell_type": "markdown",
   "metadata": {},
   "source": [
    "## Import Needed Libraries"
   ]
  },
  {
   "cell_type": "code",
   "execution_count": 1,
   "metadata": {},
   "outputs": [],
   "source": [
    "from transformers import pipeline\n",
    "from tkinter import *\n",
    "from awesometkinter.bidirender import add_bidi_support, render_text"
   ]
  },
  {
   "cell_type": "code",
   "execution_count": 2,
   "metadata": {},
   "outputs": [],
   "source": [
    "# load the pipline\n",
    "chatbot = pipeline(\"text2text-generation\",model='./trained_model/model')"
   ]
  },
  {
   "cell_type": "code",
   "execution_count": null,
   "metadata": {},
   "outputs": [
    {
     "name": "stderr",
     "output_type": "stream",
     "text": [
      "/home/lenovo/.local/lib/python3.8/site-packages/torch/_tensor.py:575: UserWarning: floor_divide is deprecated, and will be removed in a future version of pytorch. It currently rounds toward 0 (like the 'trunc' function NOT 'floor'). This results in incorrect rounding for negative values.\n",
      "To keep the current behavior, use torch.div(a, b, rounding_mode='trunc'), or for actual floor division, use torch.div(a, b, rounding_mode='floor'). (Triggered internally at  /pytorch/aten/src/ATen/native/BinaryOps.cpp:467.)\n",
      "  return torch.floor_divide(self, other)\n"
     ]
    }
   ],
   "source": [
    "# GUI style\n",
    "BG_GRAY = \"#ABB2B9\"\n",
    "BG_COLOR = \"#17202A\"\n",
    "TEXT_COLOR = \"#EAECEE\"\n",
    "\n",
    "FONT = \"Helvetica 18\"\n",
    "FONT_BOLD = \"Helvetica 13 bold\"\n",
    "\n",
    "\n",
    "class ChatApplication:\n",
    "    \n",
    "    def __init__(self):\n",
    "        self.history = []\n",
    "        self.max_hist_len = 3\n",
    "        self.window = Tk()\n",
    "        self._setup_main_window()\n",
    "        \n",
    "    def run(self):\n",
    "        self.window.mainloop()\n",
    "\n",
    "        \n",
    "    # Build the GUI Form\n",
    "    def _setup_main_window(self):\n",
    "        self.window.title(\"Chat\")\n",
    "        self.window.resizable(width=False, height=False)\n",
    "        self.window.configure(width=550, height=550, bg=BG_COLOR)\n",
    "        \n",
    "        # head label\n",
    "        head_label = Label(self.window, bg=BG_COLOR, fg=TEXT_COLOR, text=\"Arabic Chatbot\", font=FONT_BOLD, pady=10)\n",
    "        head_label.place(relwidth=1)\n",
    "        \n",
    "        # tiny divider\n",
    "        line = Label(self.window, width=450, bg=BG_GRAY)\n",
    "        line.place(relwidth=1, rely=0.07, relheight=0.012)\n",
    "        \n",
    "        # text widget\n",
    "        self.text_widget = Text(self.window, width=20, height=2, bg=BG_COLOR, fg=TEXT_COLOR, font=FONT, padx=5, pady=5)\n",
    "        self.text_widget.place(relheight=0.745, relwidth=1, rely=0.08)\n",
    "        self.text_widget.configure(cursor=\"arrow\", state=DISABLED)\n",
    "        add_bidi_support(self.window)\n",
    "        \n",
    "        # scroll bar\n",
    "        scrollbar = Scrollbar(self.text_widget)\n",
    "        scrollbar.place(relheight=1, relx=0.974)\n",
    "        scrollbar.configure(command=self.text_widget.yview)\n",
    "        \n",
    "        # bottom label\n",
    "        bottom_label = Label(self.window, bg=BG_GRAY, height=80)\n",
    "        bottom_label.place(relwidth=1, rely=0.825)\n",
    "        \n",
    "        # message entry box\n",
    "        self.msg_entry = Entry(bottom_label, bg=\"#2C3E50\", fg=TEXT_COLOR, font=FONT)\n",
    "        self.msg_entry.place(relwidth=0.74, relheight=0.06, rely=0.008, relx=0.011)\n",
    "        self.msg_entry.focus()\n",
    "        self.msg_entry.bind(\"<Return>\", self._on_enter_pressed)\n",
    "        add_bidi_support(self.msg_entry)\n",
    "        \n",
    "        # send button\n",
    "        send_button = Button(bottom_label, text=\"Send\", font=FONT_BOLD, width=20, bg=BG_GRAY, command=lambda: self._on_enter_pressed(None))\n",
    "        send_button.place(relx=0.77, rely=0.008, relheight=0.06, relwidth=0.22)\n",
    "     \n",
    "    \n",
    "    # recieve a message and enquiry the model\n",
    "    def _on_enter_pressed(self, event):\n",
    "        msg = self.msg_entry.get()\n",
    "        if(msg == 'اقفل' or msg == 'سلام'):\n",
    "            self._insert_message(render_text(\"سلام\"),\"IA(AI)\")\n",
    "            self._exit()\n",
    "        self._insert_message(render_text(msg), \"You\")\n",
    "        self.history.append(msg)\n",
    "        inp = \" <SOC> \".join(self.history[-self.max_hist_len :])\n",
    "        ans = chatbot(inp,\n",
    "          num_beams=10,\n",
    "          max_length=200,\n",
    "          top_p=0.9,\n",
    "          repetition_penalty = 3.0,\n",
    "          no_repeat_ngram_size = 3)\n",
    "        result = ans[0][\"generated_text\"]\n",
    "        self.history.append(result)\n",
    "        self._insert_message(render_text(result),\"IA(AI)\")\n",
    "        \n",
    "    # Show the message\n",
    "    def _insert_message(self, msg, sender):\n",
    "        if not msg:\n",
    "            return\n",
    "        self.msg_entry.delete(0, END)\n",
    "        msg1 = f\"{sender}: {msg}\\n\\n\"\n",
    "        self.text_widget.configure(state=NORMAL)\n",
    "        self.text_widget.insert(END, msg1)\n",
    "        self.text_widget.configure(state=DISABLED)\n",
    "        if(msg == 'اقفل' or msg == 'سلام'):\n",
    "            self._exit()\n",
    "\n",
    "    def _exit(self):\n",
    "        self.window.destroy()\n",
    "        exit()\n",
    "             \n",
    "    \n",
    "if __name__ == \"__main__\":\n",
    "    app = ChatApplication()\n",
    "    app.run()"
   ]
  }
 ],
 "metadata": {
  "colab": {
   "name": "IA(AI).ipynb",
   "provenance": []
  },
  "kernelspec": {
   "display_name": "Python 3",
   "language": "python",
   "name": "python3"
  },
  "language_info": {
   "codemirror_mode": {
    "name": "ipython",
    "version": 3
   },
   "file_extension": ".py",
   "mimetype": "text/x-python",
   "name": "python",
   "nbconvert_exporter": "python",
   "pygments_lexer": "ipython3",
   "version": "3.8.8"
  }
 },
 "nbformat": 4,
 "nbformat_minor": 1
}
