{
 "cells": [
  {
   "cell_type": "markdown",
   "metadata": {},
   "source": [
    "# <center>Data preprocessing</center>"
   ]
  },
  {
   "cell_type": "markdown",
   "metadata": {},
   "source": [
    "- The structure of the data is to be changed to `[featurs, labels]` structures to be ably fine-tuned the model.\n",
    "\n",
    "- The feature will be the input context which will accumulate 3 utterances before the answer.\n",
    "- The labels will be the emotion of the context as well as the response. \n",
    "- At the end, we load the data into the Dataset class after applying 'arabert' preprocessing on context and emotion columns which will do all the preprocessing tasks on the Arabic sentences including the segmentation task."
   ]
  },
  {
   "cell_type": "markdown",
   "metadata": {},
   "source": [
    "## Install Needed libraries"
   ]
  },
  {
   "cell_type": "code",
   "execution_count": 1,
   "metadata": {
    "id": "auX5HAyKpGEw"
   },
   "outputs": [],
   "source": [
    "# !pip install numpy\n",
    "# !pip install pandas\n",
    "# !pip install csv"
   ]
  },
  {
   "cell_type": "markdown",
   "metadata": {},
   "source": [
    "## Import Needed Libraries"
   ]
  },
  {
   "cell_type": "code",
   "execution_count": 1,
   "metadata": {},
   "outputs": [],
   "source": [
    "import os\n",
    "import numpy as np\n",
    "import pandas as pd"
   ]
  },
  {
   "cell_type": "markdown",
   "metadata": {},
   "source": [
    "## Training data\n"
   ]
  },
  {
   "cell_type": "markdown",
   "metadata": {},
   "source": [
    "read the cleaned training data"
   ]
  },
  {
   "cell_type": "code",
   "execution_count": 3,
   "metadata": {},
   "outputs": [],
   "source": [
    "training_data = pd.read_csv(\"./Dataset/empatheticdialogues_arabic_cleaned/train_arabic_clean.csv\")"
   ]
  },
  {
   "cell_type": "markdown",
   "metadata": {},
   "source": [
    "structure the data into `[\"emotion\",\"context\",\"uterance\"]` where the context contain 3 uterances before the responce on the same conversation"
   ]
  },
  {
   "cell_type": "code",
   "execution_count": 4,
   "metadata": {},
   "outputs": [],
   "source": [
    "data_upd = []\n",
    "history = []\n",
    "max_hist_len = 3\n",
    "for i in range(1, len(training_data)):\n",
    "    cparts = training_data.iloc[i - 1]\n",
    "    sparts = training_data.iloc[i]\n",
    "    if cparts[\"conv_id\"] == sparts[\"conv_id\"]:\n",
    "        prevsent = cparts[\"translated_utterance\"]\n",
    "        history.append(prevsent)\n",
    "        idx = int(sparts[\"utterance_idx\"])\n",
    "        if ((idx % 2) == 0):\n",
    "            context = \" SOC \".join(history[-max_hist_len :])\n",
    "            label = sparts[\"translated_utterance\"]\n",
    "            emotion = sparts[\"context\"]\n",
    "            data_upd.append([emotion,context,label])\n",
    "    else:\n",
    "        history = []"
   ]
  },
  {
   "cell_type": "markdown",
   "metadata": {},
   "source": [
    "Write data to disk"
   ]
  },
  {
   "cell_type": "code",
   "execution_count": 5,
   "metadata": {},
   "outputs": [],
   "source": [
    "path = \"./Dataset/processed\"\n",
    "if(not os.path.isdir(path)):\n",
    "    os.mkdir(path)\n",
    "    \n",
    "df_training = pd.DataFrame(data= data_upd,columns=[\"emotion\",\"context\",\"response\"])\n",
    "df_training.to_csv(path+\"/train_arabic_with_history.csv\",index=False)"
   ]
  },
  {
   "cell_type": "code",
   "execution_count": 6,
   "metadata": {},
   "outputs": [
    {
     "name": "stdout",
     "output_type": "stream",
     "text": [
      "Data Size:  37663\n"
     ]
    },
    {
     "data": {
      "text/html": [
       "<div>\n",
       "<style scoped>\n",
       "    .dataframe tbody tr th:only-of-type {\n",
       "        vertical-align: middle;\n",
       "    }\n",
       "\n",
       "    .dataframe tbody tr th {\n",
       "        vertical-align: top;\n",
       "    }\n",
       "\n",
       "    .dataframe thead th {\n",
       "        text-align: right;\n",
       "    }\n",
       "</style>\n",
       "<table border=\"1\" class=\"dataframe\">\n",
       "  <thead>\n",
       "    <tr style=\"text-align: right;\">\n",
       "      <th></th>\n",
       "      <th>emotion</th>\n",
       "      <th>context</th>\n",
       "      <th>response</th>\n",
       "    </tr>\n",
       "  </thead>\n",
       "  <tbody>\n",
       "    <tr>\n",
       "      <th>23437</th>\n",
       "      <td>disappointed</td>\n",
       "      <td>كنت آمل حقًا أن أذهب إلى الحديقة المائية في نه...</td>\n",
       "      <td>هذا سيء. ربما يمكنك الذهاب في عطلة نهاية الأسب...</td>\n",
       "    </tr>\n",
       "    <tr>\n",
       "      <th>25997</th>\n",
       "      <td>disappointed</td>\n",
       "      <td>أنا محبط بعض الشيء. لقد تلقيت للتو مكالمة مفاد...</td>\n",
       "      <td>انا اكره ان اسمع ذالك. هل يستحق الشخص الذي حصل...</td>\n",
       "    </tr>\n",
       "    <tr>\n",
       "      <th>28175</th>\n",
       "      <td>furious</td>\n",
       "      <td>شخص ما اقتحم سيارتي ومزق كل شيء ، حتى السماعات...</td>\n",
       "      <td>أقترح نظام مراقبة Night Owl.</td>\n",
       "    </tr>\n",
       "    <tr>\n",
       "      <th>32960</th>\n",
       "      <td>faithful</td>\n",
       "      <td>أنا متزوج منذ 30 عامًا. أنا أحب زوجي ولكني أشت...</td>\n",
       "      <td>أوه ، ربما تكون هذه علامة لجلب المرح والمغامرة...</td>\n",
       "    </tr>\n",
       "    <tr>\n",
       "      <th>12232</th>\n",
       "      <td>lonely</td>\n",
       "      <td>أنا حقا قلت. أنا أفتقد نشاطي الشبابي. SOC قوتك...</td>\n",
       "      <td>حسنًا ، ربما تكون فرصة للتأمل. لكي تأخذ وقتًا ...</td>\n",
       "    </tr>\n",
       "  </tbody>\n",
       "</table>\n",
       "</div>"
      ],
      "text/plain": [
       "            emotion                                            context  \\\n",
       "23437  disappointed  كنت آمل حقًا أن أذهب إلى الحديقة المائية في نه...   \n",
       "25997  disappointed  أنا محبط بعض الشيء. لقد تلقيت للتو مكالمة مفاد...   \n",
       "28175       furious  شخص ما اقتحم سيارتي ومزق كل شيء ، حتى السماعات...   \n",
       "32960      faithful  أنا متزوج منذ 30 عامًا. أنا أحب زوجي ولكني أشت...   \n",
       "12232        lonely  أنا حقا قلت. أنا أفتقد نشاطي الشبابي. SOC قوتك...   \n",
       "\n",
       "                                                response  \n",
       "23437  هذا سيء. ربما يمكنك الذهاب في عطلة نهاية الأسب...  \n",
       "25997  انا اكره ان اسمع ذالك. هل يستحق الشخص الذي حصل...  \n",
       "28175                       أقترح نظام مراقبة Night Owl.  \n",
       "32960  أوه ، ربما تكون هذه علامة لجلب المرح والمغامرة...  \n",
       "12232  حسنًا ، ربما تكون فرصة للتأمل. لكي تأخذ وقتًا ...  "
      ]
     },
     "execution_count": 6,
     "metadata": {},
     "output_type": "execute_result"
    }
   ],
   "source": [
    "print(\"Data Size: \", len(df_training))\n",
    "df_training.sample(5)"
   ]
  },
  {
   "cell_type": "markdown",
   "metadata": {},
   "source": [
    "## Test data"
   ]
  },
  {
   "cell_type": "code",
   "execution_count": 7,
   "metadata": {},
   "outputs": [],
   "source": [
    "test_data = pd.read_csv(\"./Dataset/empatheticdialogues_arabic_cleaned/test_arabic_clean.csv\")"
   ]
  },
  {
   "cell_type": "code",
   "execution_count": 8,
   "metadata": {},
   "outputs": [],
   "source": [
    "data_upd = []\n",
    "history = []\n",
    "max_hist_len = 3\n",
    "for i in range(1, len(test_data)):\n",
    "    cparts = test_data.iloc[i - 1]\n",
    "    sparts = test_data.iloc[i]\n",
    "    if cparts[\"conv_id\"] == sparts[\"conv_id\"]:\n",
    "        prevsent = cparts[\"translated_utterance\"]\n",
    "        history.append(prevsent)\n",
    "        idx = int(sparts[\"utterance_idx\"])\n",
    "        if ((idx % 2) == 0):\n",
    "            context = \" SOC \".join(history[-max_hist_len :])\n",
    "            label = sparts[\"translated_utterance\"]\n",
    "            emotion = sparts[\"context\"]\n",
    "            data_upd.append([emotion,context,label])\n",
    "    else:\n",
    "        history = []"
   ]
  },
  {
   "cell_type": "code",
   "execution_count": 9,
   "metadata": {},
   "outputs": [],
   "source": [
    "path = \"./Dataset/processed\"\n",
    "if(not os.path.isdir(path)):\n",
    "    os.mkdir(path)\n",
    "    \n",
    "df_test = pd.DataFrame(data= data_upd,columns=[\"emotion\",\"context\",\"response\"])\n",
    "df_test.to_csv(path+\"/test_arabic_history.csv\",index=False)"
   ]
  },
  {
   "cell_type": "code",
   "execution_count": 10,
   "metadata": {},
   "outputs": [
    {
     "name": "stdout",
     "output_type": "stream",
     "text": [
      "Data Length:  5247\n"
     ]
    },
    {
     "data": {
      "text/html": [
       "<div>\n",
       "<style scoped>\n",
       "    .dataframe tbody tr th:only-of-type {\n",
       "        vertical-align: middle;\n",
       "    }\n",
       "\n",
       "    .dataframe tbody tr th {\n",
       "        vertical-align: top;\n",
       "    }\n",
       "\n",
       "    .dataframe thead th {\n",
       "        text-align: right;\n",
       "    }\n",
       "</style>\n",
       "<table border=\"1\" class=\"dataframe\">\n",
       "  <thead>\n",
       "    <tr style=\"text-align: right;\">\n",
       "      <th></th>\n",
       "      <th>emotion</th>\n",
       "      <th>context</th>\n",
       "      <th>response</th>\n",
       "    </tr>\n",
       "  </thead>\n",
       "  <tbody>\n",
       "    <tr>\n",
       "      <th>1529</th>\n",
       "      <td>lonely</td>\n",
       "      <td>شعرت بالعزلة الشديدة عندما انتقلنا لأول مرة إل...</td>\n",
       "      <td>واو ، لا أستطيع أن أتخيل كيف شعرت بالعيش في هو...</td>\n",
       "    </tr>\n",
       "    <tr>\n",
       "      <th>2519</th>\n",
       "      <td>apprehensive</td>\n",
       "      <td>أنا لا أثق في الناس بشكل عام. SOC لماذا لا تثق...</td>\n",
       "      <td>إنه محق. لكن يجب أن تثق في بعض الأشخاص الذين ت...</td>\n",
       "    </tr>\n",
       "    <tr>\n",
       "      <th>1451</th>\n",
       "      <td>content</td>\n",
       "      <td>أشعر بالراحة والسلام عندما أتأمل SOC من لا .. ...</td>\n",
       "      <td>سمعت أنه يمكنك السفر إلى أبعاد مختلفة أثناء ال...</td>\n",
       "    </tr>\n",
       "    <tr>\n",
       "      <th>2531</th>\n",
       "      <td>joyful</td>\n",
       "      <td>ذهبت مؤخرًا لأنابيب النهر مع صديقتي وأصدقائها ...</td>\n",
       "      <td>رائعة حقا! هل نزلت منحدرات وقمت بأشياء مخيفة؟</td>\n",
       "    </tr>\n",
       "    <tr>\n",
       "      <th>4324</th>\n",
       "      <td>trusting</td>\n",
       "      <td>أحب إقراض المال للأصدقاء. يمكن أن يفسد الصداقا...</td>\n",
       "      <td>كانت تلك مفاجأة جميلة! لقد حاولت إقراض المال ل...</td>\n",
       "    </tr>\n",
       "  </tbody>\n",
       "</table>\n",
       "</div>"
      ],
      "text/plain": [
       "           emotion                                            context  \\\n",
       "1529        lonely  شعرت بالعزلة الشديدة عندما انتقلنا لأول مرة إل...   \n",
       "2519  apprehensive  أنا لا أثق في الناس بشكل عام. SOC لماذا لا تثق...   \n",
       "1451       content  أشعر بالراحة والسلام عندما أتأمل SOC من لا .. ...   \n",
       "2531        joyful  ذهبت مؤخرًا لأنابيب النهر مع صديقتي وأصدقائها ...   \n",
       "4324      trusting  أحب إقراض المال للأصدقاء. يمكن أن يفسد الصداقا...   \n",
       "\n",
       "                                               response  \n",
       "1529  واو ، لا أستطيع أن أتخيل كيف شعرت بالعيش في هو...  \n",
       "2519  إنه محق. لكن يجب أن تثق في بعض الأشخاص الذين ت...  \n",
       "1451  سمعت أنه يمكنك السفر إلى أبعاد مختلفة أثناء ال...  \n",
       "2531      رائعة حقا! هل نزلت منحدرات وقمت بأشياء مخيفة؟  \n",
       "4324  كانت تلك مفاجأة جميلة! لقد حاولت إقراض المال ل...  "
      ]
     },
     "execution_count": 10,
     "metadata": {},
     "output_type": "execute_result"
    }
   ],
   "source": [
    "print(\"Data Length: \", len(df_test))\n",
    "df_test.sample(5)"
   ]
  }
 ],
 "metadata": {
  "colab": {
   "name": "IA(AI).ipynb",
   "provenance": []
  },
  "kernelspec": {
   "display_name": "Python 3",
   "language": "python",
   "name": "python3"
  },
  "language_info": {
   "codemirror_mode": {
    "name": "ipython",
    "version": 3
   },
   "file_extension": ".py",
   "mimetype": "text/x-python",
   "name": "python",
   "nbconvert_exporter": "python",
   "pygments_lexer": "ipython3",
   "version": "3.8.8"
  }
 },
 "nbformat": 4,
 "nbformat_minor": 1
}
