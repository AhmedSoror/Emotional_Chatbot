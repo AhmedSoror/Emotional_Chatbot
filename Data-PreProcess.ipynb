{
 "cells": [
  {
   "cell_type": "code",
   "execution_count": 1,
   "metadata": {
    "scrolled": true
   },
   "outputs": [],
   "source": [
    "import pandas as pd"
   ]
  },
  {
   "cell_type": "code",
   "execution_count": 4,
   "metadata": {},
   "outputs": [],
   "source": [
    "# transform the data into a new structure to train the model\n",
    "# if the data is\n",
    "# id | context | utterance                       id | empathy | context             |  response\n",
    "# 1  | excited | hello, how are you?    ===>     1  | excited | hello, how are you? |  fine thanks\n",
    "# 2  | proud   | fine thanks\n",
    "\n",
    "def extractfeature(data_path,save_path):\n",
    "    data = pd.read_csv(data_path,low_memory=False)\n",
    "    new_data = pd.DataFrame(columns=['empathy','context','response'])\n",
    "    j = 0\n",
    "    for i in range(0,len(data)-1,2):\n",
    "        new_data.loc[j] = [data[\"context\"][i],data[\"translated_utterance\"][i],data[\"translated_utterance\"][i+1]]\n",
    "        j+=1\n",
    "    new_data = new_data.dropna()\n",
    "    new_data.to_csv(save_path, index=False)"
   ]
  },
  {
   "cell_type": "code",
   "execution_count": 8,
   "metadata": {},
   "outputs": [],
   "source": [
    "# transform the training data\n",
    "extractfeature(\"./Dataset/empatheticdialogues_arabic/train_arabic_copy.csv\",\"./Dataset/transformedData/train.csv\")"
   ]
  },
  {
   "cell_type": "code",
   "execution_count": 9,
   "metadata": {},
   "outputs": [],
   "source": [
    "# transform the testing data\n",
    "extractfeature(\"./Dataset/empatheticdialogues_arabic/test_arabic_copy.csv\",\"./Dataset/transformedData/test.csv\")"
   ]
  },
  {
   "cell_type": "code",
   "execution_count": 7,
   "metadata": {},
   "outputs": [],
   "source": [
    "# to be used later mapping the 31 empathies to 6 only\n",
    "map_empathy={\n",
    "    \"joy\":[\"excited\",\"proud\",\"grateful\",\"hopeful\",\"confident\",\"joyful\",\"content\",\"prepared\",\"anticipating\"],\n",
    "    \"love\":[\"caring\",\"sentimental\",\"trusting\",\"faithful\",\"nostalgic\"],\n",
    "    \"surprise\":[\"impressed\",\"surprised\"],\n",
    "    \"sadness\":[\"sad\",\"lonely\",\"guilty\",\"disappointed\",\"devastated\",\"embarrassed\",\"ashamed\"],\n",
    "    \"anger\":[\"angry\",\"annoyed\",\"furious\",\"disgusted\",\"jealous\"],\n",
    "    \"afraid\":[\"terrified\",\"fear\",\"anxious\",\"apprehensive\"]\n",
    "}"
   ]
  },
  {
   "cell_type": "code",
   "execution_count": null,
   "metadata": {},
   "outputs": [],
   "source": []
  }
 ],
 "metadata": {
  "kernelspec": {
   "display_name": "Python 3",
   "language": "python",
   "name": "python3"
  },
  "language_info": {
   "codemirror_mode": {
    "name": "ipython",
    "version": 3
   },
   "file_extension": ".py",
   "mimetype": "text/x-python",
   "name": "python",
   "nbconvert_exporter": "python",
   "pygments_lexer": "ipython3",
   "version": "3.7.4"
  }
 },
 "nbformat": 4,
 "nbformat_minor": 4
}
